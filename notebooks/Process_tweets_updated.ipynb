{
 "cells": [
  {
   "cell_type": "code",
   "execution_count": 45,
   "metadata": {
    "collapsed": false
   },
   "outputs": [
    {
     "ename": "RuntimeError",
     "evalue": "Python is not installed as a framework. The Mac OS X backend will not be able to function correctly if Python is not installed as a framework. See the Python documentation for more information on installing Python as a framework on Mac OS X. Please either reinstall Python as a framework, or try one of the other backends. If you are Working with Matplotlib in a virtual enviroment see 'Working with Matplotlib in Virtual environments' in the Matplotlib FAQ",
     "output_type": "error",
     "traceback": [
      "\u001b[0;31m---------------------------------------------------------------------------\u001b[0m",
      "\u001b[0;31mRuntimeError\u001b[0m                              Traceback (most recent call last)",
      "\u001b[0;32m<ipython-input-45-9a36bf9ca4eb>\u001b[0m in \u001b[0;36m<module>\u001b[0;34m()\u001b[0m\n\u001b[1;32m      3\u001b[0m \u001b[0;32mimport\u001b[0m \u001b[0mmatplotlib\u001b[0m\u001b[0;34m\u001b[0m\u001b[0m\n\u001b[1;32m      4\u001b[0m \u001b[0;32mimport\u001b[0m \u001b[0mpandas\u001b[0m \u001b[0;32mas\u001b[0m \u001b[0mpd\u001b[0m\u001b[0;34m\u001b[0m\u001b[0m\n\u001b[0;32m----> 5\u001b[0;31m \u001b[0;32mimport\u001b[0m \u001b[0mmatplotlib\u001b[0m\u001b[0;34m.\u001b[0m\u001b[0mpyplot\u001b[0m \u001b[0;32mas\u001b[0m \u001b[0mplt\u001b[0m\u001b[0;34m\u001b[0m\u001b[0m\n\u001b[0m\u001b[1;32m      6\u001b[0m \u001b[0;31m# from mpl_toolkits.basemap import Basemap\u001b[0m\u001b[0;34m\u001b[0m\u001b[0;34m\u001b[0m\u001b[0m\n\u001b[1;32m      7\u001b[0m \u001b[0;32mfrom\u001b[0m \u001b[0mgeopy\u001b[0m\u001b[0;34m.\u001b[0m\u001b[0mgeocoders\u001b[0m \u001b[0;32mimport\u001b[0m \u001b[0mNominatim\u001b[0m\u001b[0;34m\u001b[0m\u001b[0m\n",
      "\u001b[0;32m/Users/agifford/.virtualenvs/twitter-proj-p3/lib/python3.5/site-packages/matplotlib/pyplot.py\u001b[0m in \u001b[0;36m<module>\u001b[0;34m()\u001b[0m\n\u001b[1;32m    112\u001b[0m \u001b[0;34m\u001b[0m\u001b[0m\n\u001b[1;32m    113\u001b[0m \u001b[0;32mfrom\u001b[0m \u001b[0mmatplotlib\u001b[0m\u001b[0;34m.\u001b[0m\u001b[0mbackends\u001b[0m \u001b[0;32mimport\u001b[0m \u001b[0mpylab_setup\u001b[0m\u001b[0;34m\u001b[0m\u001b[0m\n\u001b[0;32m--> 114\u001b[0;31m \u001b[0m_backend_mod\u001b[0m\u001b[0;34m,\u001b[0m \u001b[0mnew_figure_manager\u001b[0m\u001b[0;34m,\u001b[0m \u001b[0mdraw_if_interactive\u001b[0m\u001b[0;34m,\u001b[0m \u001b[0m_show\u001b[0m \u001b[0;34m=\u001b[0m \u001b[0mpylab_setup\u001b[0m\u001b[0;34m(\u001b[0m\u001b[0;34m)\u001b[0m\u001b[0;34m\u001b[0m\u001b[0m\n\u001b[0m\u001b[1;32m    115\u001b[0m \u001b[0;34m\u001b[0m\u001b[0m\n\u001b[1;32m    116\u001b[0m \u001b[0m_IP_REGISTERED\u001b[0m \u001b[0;34m=\u001b[0m \u001b[0;32mNone\u001b[0m\u001b[0;34m\u001b[0m\u001b[0m\n",
      "\u001b[0;32m/Users/agifford/.virtualenvs/twitter-proj-p3/lib/python3.5/site-packages/matplotlib/backends/__init__.py\u001b[0m in \u001b[0;36mpylab_setup\u001b[0;34m()\u001b[0m\n\u001b[1;32m     30\u001b[0m     \u001b[0;31m# imports. 0 means only perform absolute imports.\u001b[0m\u001b[0;34m\u001b[0m\u001b[0;34m\u001b[0m\u001b[0m\n\u001b[1;32m     31\u001b[0m     backend_mod = __import__(backend_name,\n\u001b[0;32m---> 32\u001b[0;31m                              globals(),locals(),[backend_name],0)\n\u001b[0m\u001b[1;32m     33\u001b[0m \u001b[0;34m\u001b[0m\u001b[0m\n\u001b[1;32m     34\u001b[0m     \u001b[0;31m# Things we pull in from all backends\u001b[0m\u001b[0;34m\u001b[0m\u001b[0;34m\u001b[0m\u001b[0m\n",
      "\u001b[0;32m/Users/agifford/.virtualenvs/twitter-proj-p3/lib/python3.5/site-packages/matplotlib/backends/backend_macosx.py\u001b[0m in \u001b[0;36m<module>\u001b[0;34m()\u001b[0m\n\u001b[1;32m     22\u001b[0m \u001b[0;34m\u001b[0m\u001b[0m\n\u001b[1;32m     23\u001b[0m \u001b[0;32mimport\u001b[0m \u001b[0mmatplotlib\u001b[0m\u001b[0;34m\u001b[0m\u001b[0m\n\u001b[0;32m---> 24\u001b[0;31m \u001b[0;32mfrom\u001b[0m \u001b[0mmatplotlib\u001b[0m\u001b[0;34m.\u001b[0m\u001b[0mbackends\u001b[0m \u001b[0;32mimport\u001b[0m \u001b[0m_macosx\u001b[0m\u001b[0;34m\u001b[0m\u001b[0m\n\u001b[0m\u001b[1;32m     25\u001b[0m \u001b[0;34m\u001b[0m\u001b[0m\n\u001b[1;32m     26\u001b[0m \u001b[0;34m\u001b[0m\u001b[0m\n",
      "\u001b[0;31mRuntimeError\u001b[0m: Python is not installed as a framework. The Mac OS X backend will not be able to function correctly if Python is not installed as a framework. See the Python documentation for more information on installing Python as a framework on Mac OS X. Please either reinstall Python as a framework, or try one of the other backends. If you are Working with Matplotlib in a virtual enviroment see 'Working with Matplotlib in Virtual environments' in the Matplotlib FAQ"
     ]
    }
   ],
   "source": [
    "import re\n",
    "import json\n",
    "import matplotlib\n",
    "import pandas as pd\n",
    "import matplotlib.pyplot as plt\n",
    "# from mpl_toolkits.basemap import Basemap\n",
    "from geopy.geocoders import Nominatim\n",
    "\n",
    "# Set iPython to display visualization inline\n",
    "# %matplotlib inline"
   ]
  },
  {
   "cell_type": "code",
   "execution_count": 29,
   "metadata": {
    "collapsed": false
   },
   "outputs": [
    {
     "name": "stdout",
     "output_type": "stream",
     "text": [
      "This document contains 76037 tweets.\n",
      "\n",
      "[{'possibly_sensitive': False, 'retweet_count': 0, 'in_reply_to_user_id_str': None, 'favorite_count': 0, 'created_at': 'Thu Jun 23 22:14:13 +0000 2016', 'truncated': False, 'place': None, 'in_reply_to_screen_name': None, 'in_reply_to_status_id': None, 'coordinates': None, 'favorited': False, 'geo': None, 'retweeted': False, 'filter_level': 'low', 'id_str': '746104097837723648', 'in_reply_to_status_id_str': None, 'text': 'Factbox: Why the Zika virus is causing alarm - Reuters https://t.co/B0ekkkJ3Rs', 'user': {'location': 'Saint Vincent & the Grenadines', 'profile_text_color': '333333', 'geo_enabled': False, 'profile_image_url': 'http://pbs.twimg.com/profile_images/1675611856/Saint_Vincent_and_the_Grenadines_normal.png', 'utc_offset': None, 'description': 'Experimental bot .. maintained by @mendicot ..', 'followers_count': 77, 'protected': False, 'created_at': 'Fri Dec 02 04:16:09 +0000 2011', 'profile_use_background_image': True, 'profile_sidebar_fill_color': 'DDEEF6', 'time_zone': None, 'profile_sidebar_border_color': 'C0DEED', 'verified': False, 'favourites_count': 0, 'profile_image_url_https': 'https://pbs.twimg.com/profile_images/1675611856/Saint_Vincent_and_the_Grenadines_normal.png', 'default_profile': True, 'url': 'http://gaiapassage.com/saint-vincent-and-the-grenadines', 'screen_name': 'meta_guide_vc', 'follow_request_sent': None, 'profile_background_image_url': 'http://abs.twimg.com/images/themes/theme1/bg.png', 'statuses_count': 3777, 'profile_background_image_url_https': 'https://abs.twimg.com/images/themes/theme1/bg.png', 'following': None, 'friends_count': 2, 'default_profile_image': False, 'profile_link_color': '0084B4', 'contributors_enabled': False, 'id_str': '426354793', 'listed_count': 5, 'is_translator': False, 'profile_background_tile': False, 'notifications': None, 'name': 'VC Meta Guide', 'lang': 'en', 'id': 426354793, 'profile_background_color': 'C0DEED'}, 'lang': 'en', 'timestamp_ms': '1466720053525', 'in_reply_to_user_id': None, 'contributors': None, 'entities': {'hashtags': [], 'symbols': [], 'user_mentions': [], 'urls': [{'display_url': 'dlvr.it/LdfbRf', 'expanded_url': 'http://dlvr.it/LdfbRf', 'indices': [55, 78], 'url': 'https://t.co/B0ekkkJ3Rs'}]}, 'source': '<a href=\"http://dlvr.it\" rel=\"nofollow\">dlvr.it</a>', 'id': 746104097837723648, 'is_quote_status': False}, {'possibly_sensitive': False, 'retweet_count': 0, 'in_reply_to_user_id_str': None, 'favorite_count': 0, 'created_at': 'Thu Jun 23 22:14:15 +0000 2016', 'truncated': False, 'place': None, 'in_reply_to_screen_name': None, 'in_reply_to_status_id': None, 'coordinates': None, 'favorited': False, 'geo': None, 'retweeted': False, 'filter_level': 'low', 'id_str': '746104107757342720', 'in_reply_to_status_id_str': None, 'text': 'Republicans Break From Bipartisan Zika Compromise to Push Poison Pills That Would Endanger Women’s Health https://t.co/MPaH3cGM9X', 'user': {'location': 'Washington, D.C', 'profile_text_color': '000000', 'geo_enabled': True, 'profile_image_url': 'http://pbs.twimg.com/profile_images/722860778471055360/A5pdsT9-_normal.jpg', 'utc_offset': None, 'description': 'Tweets /views expressed here are my own. RTs not endorsements', 'followers_count': 386, 'protected': False, 'created_at': 'Wed May 18 19:29:11 +0000 2011', 'profile_use_background_image': False, 'profile_sidebar_fill_color': '000000', 'time_zone': None, 'profile_sidebar_border_color': '000000', 'verified': False, 'favourites_count': 82, 'profile_image_url_https': 'https://pbs.twimg.com/profile_images/722860778471055360/A5pdsT9-_normal.jpg', 'default_profile': False, 'url': None, 'screen_name': 'rey_benitez', 'follow_request_sent': None, 'profile_background_image_url': 'http://abs.twimg.com/images/themes/theme1/bg.png', 'profile_banner_url': 'https://pbs.twimg.com/profile_banners/301037163/1461178884', 'statuses_count': 4829, 'profile_background_image_url_https': 'https://abs.twimg.com/images/themes/theme1/bg.png', 'following': None, 'friends_count': 500, 'default_profile_image': False, 'profile_link_color': 'ABB8C2', 'contributors_enabled': False, 'id_str': '301037163', 'listed_count': 15, 'is_translator': False, 'profile_background_tile': False, 'notifications': None, 'name': 'Rey Benitez', 'lang': 'en', 'id': 301037163, 'profile_background_color': '000000'}, 'lang': 'en', 'timestamp_ms': '1466720055890', 'in_reply_to_user_id': None, 'contributors': None, 'entities': {'hashtags': [], 'symbols': [], 'user_mentions': [], 'urls': [{'display_url': 'dpcc.senate.gov/?p=issue&id=584', 'expanded_url': 'https://www.dpcc.senate.gov/?p=issue&id=584', 'indices': [106, 129], 'url': 'https://t.co/MPaH3cGM9X'}]}, 'source': '<a href=\"http://twitter.com\" rel=\"nofollow\">Twitter Web Client</a>', 'id': 746104107757342720, 'is_quote_status': False}, {'possibly_sensitive': False, 'retweet_count': 0, 'in_reply_to_user_id_str': None, 'created_at': 'Thu Jun 23 22:14:17 +0000 2016', 'favorite_count': 0, 'place': None, 'in_reply_to_screen_name': None, 'timestamp_ms': '1466720057368', 'in_reply_to_status_id': None, 'coordinates': None, 'truncated': False, 'geo': None, 'retweeted_status': {'possibly_sensitive': False, 'retweet_count': 24, 'in_reply_to_user_id_str': None, 'created_at': 'Thu Jun 23 20:39:14 +0000 2016', 'truncated': False, 'place': None, 'in_reply_to_screen_name': None, 'in_reply_to_status_id': None, 'coordinates': None, 'favorite_count': 1, 'geo': None, 'retweeted': False, 'filter_level': 'low', 'id_str': '746080192364371968', 'in_reply_to_status_id_str': None, 'text': '#Iran #News European scientists discover antibodies which ‘neutralise’ Zika virus https://t.co/9MoMzrEoGe https://t.co/n4fl0hWhem', 'user': {'location': 'IRAN', 'profile_text_color': '333333', 'geo_enabled': False, 'profile_image_url': 'http://pbs.twimg.com/profile_images/3173295102/f160eefbf0125c34aa1195a31c897286_normal.jpeg', 'utc_offset': 10800, 'description': 'The PMOI seeks 2 replace Iran’s religious dictatorship with a secular, pluralistic, democratic government that respects individual freedoms and gender equality.', 'followers_count': 6088, 'protected': False, 'created_at': 'Sat Aug 01 18:28:15 +0000 2009', 'profile_use_background_image': True, 'profile_sidebar_fill_color': 'DDEEF6', 'time_zone': 'Baghdad', 'profile_sidebar_border_color': 'C0DEED', 'verified': False, 'favourites_count': 46, 'profile_image_url_https': 'https://pbs.twimg.com/profile_images/3173295102/f160eefbf0125c34aa1195a31c897286_normal.jpeg', 'default_profile': True, 'url': 'http://mojahedin.org/pagesen/index.aspx', 'screen_name': 'Mojahedineng', 'follow_request_sent': None, 'profile_background_image_url': 'http://abs.twimg.com/images/themes/theme1/bg.png', 'profile_banner_url': 'https://pbs.twimg.com/profile_banners/62088756/1383225956', 'statuses_count': 92810, 'profile_background_image_url_https': 'https://abs.twimg.com/images/themes/theme1/bg.png', 'following': None, 'friends_count': 1, 'default_profile_image': False, 'profile_link_color': '0084B4', 'contributors_enabled': False, 'id_str': '62088756', 'listed_count': 212, 'is_translator': False, 'profile_background_tile': False, 'notifications': None, 'name': 'P.M.O.I', 'lang': 'en', 'id': 62088756, 'profile_background_color': 'C0DEED'}, 'lang': 'en', 'extended_entities': {'media': [{'sizes': {'medium': {'resize': 'fit', 'w': 500, 'h': 281}, 'small': {'resize': 'fit', 'w': 500, 'h': 281}, 'thumb': {'resize': 'crop', 'w': 150, 'h': 150}, 'large': {'resize': 'fit', 'w': 500, 'h': 281}}, 'id_str': '746080189772271620', 'media_url_https': 'https://pbs.twimg.com/media/Clqb-s1VEAQwYsJ.jpg', 'type': 'photo', 'expanded_url': 'http://twitter.com/Mojahedineng/status/746080192364371968/photo/1', 'display_url': 'pic.twitter.com/n4fl0hWhem', 'indices': [106, 129], 'id': 746080189772271620, 'url': 'https://t.co/n4fl0hWhem', 'media_url': 'http://pbs.twimg.com/media/Clqb-s1VEAQwYsJ.jpg'}]}, 'in_reply_to_user_id': None, 'contributors': None, 'entities': {'hashtags': [{'text': 'Iran', 'indices': [0, 5]}, {'text': 'News', 'indices': [6, 11]}], 'media': [{'sizes': {'medium': {'resize': 'fit', 'w': 500, 'h': 281}, 'small': {'resize': 'fit', 'w': 500, 'h': 281}, 'thumb': {'resize': 'crop', 'w': 150, 'h': 150}, 'large': {'resize': 'fit', 'w': 500, 'h': 281}}, 'id_str': '746080189772271620', 'media_url_https': 'https://pbs.twimg.com/media/Clqb-s1VEAQwYsJ.jpg', 'type': 'photo', 'expanded_url': 'http://twitter.com/Mojahedineng/status/746080192364371968/photo/1', 'display_url': 'pic.twitter.com/n4fl0hWhem', 'indices': [106, 129], 'id': 746080189772271620, 'url': 'https://t.co/n4fl0hWhem', 'media_url': 'http://pbs.twimg.com/media/Clqb-s1VEAQwYsJ.jpg'}], 'symbols': [], 'user_mentions': [], 'urls': [{'display_url': 'dlvr.it/LddFW6', 'expanded_url': 'http://dlvr.it/LddFW6', 'indices': [82, 105], 'url': 'https://t.co/9MoMzrEoGe'}]}, 'source': '<a href=\"http://dlvr.it\" rel=\"nofollow\">dlvr.it</a>', 'id': 746080192364371968, 'favorited': False, 'is_quote_status': False}, 'retweeted': False, 'filter_level': 'low', 'id_str': '746104113956458496', 'in_reply_to_status_id_str': None, 'text': 'RT @Mojahedineng: #Iran #News European scientists discover antibodies which ‘neutralise’ Zika virus https://t.co/9MoMzrEoGe https://t.co/n4…', 'user': {'location': 'Roma', 'profile_text_color': '333333', 'geo_enabled': False, 'profile_image_url': 'http://pbs.twimg.com/profile_images/467595249787731968/6PEw2MVx_normal.jpeg', 'utc_offset': None, 'description': 'I support #PMOI, #camp liberty\\r\\nI cry for  #freedom in #iran', 'followers_count': 329, 'protected': False, 'created_at': 'Sat May 17 09:18:04 +0000 2014', 'profile_use_background_image': True, 'profile_sidebar_fill_color': 'DDEEF6', 'time_zone': None, 'profile_sidebar_border_color': 'C0DEED', 'verified': False, 'favourites_count': 42, 'profile_image_url_https': 'https://pbs.twimg.com/profile_images/467595249787731968/6PEw2MVx_normal.jpeg', 'default_profile': True, 'url': 'http://www.mojahedin.org', 'screen_name': 'FAhmadzadeh', 'follow_request_sent': None, 'profile_background_image_url': 'http://abs.twimg.com/images/themes/theme1/bg.png', 'profile_banner_url': 'https://pbs.twimg.com/profile_banners/2501095249/1400318393', 'statuses_count': 18882, 'profile_background_image_url_https': 'https://abs.twimg.com/images/themes/theme1/bg.png', 'following': None, 'friends_count': 94, 'default_profile_image': False, 'profile_link_color': '0084B4', 'contributors_enabled': False, 'id_str': '2501095249', 'listed_count': 14, 'is_translator': False, 'profile_background_tile': False, 'notifications': None, 'name': 'Farzan Ahmadzadeh', 'lang': 'en', 'id': 2501095249, 'profile_background_color': 'C0DEED'}, 'lang': 'en', 'extended_entities': {'media': [{'source_user_id_str': '62088756', 'type': 'photo', 'media_url_https': 'https://pbs.twimg.com/media/Clqb-s1VEAQwYsJ.jpg', 'expanded_url': 'http://twitter.com/Mojahedineng/status/746080192364371968/photo/1', 'source_user_id': 62088756, 'media_url': 'http://pbs.twimg.com/media/Clqb-s1VEAQwYsJ.jpg', 'sizes': {'medium': {'resize': 'fit', 'w': 500, 'h': 281}, 'small': {'resize': 'fit', 'w': 500, 'h': 281}, 'thumb': {'resize': 'crop', 'w': 150, 'h': 150}, 'large': {'resize': 'fit', 'w': 500, 'h': 281}}, 'id_str': '746080189772271620', 'source_status_id_str': '746080192364371968', 'display_url': 'pic.twitter.com/n4fl0hWhem', 'indices': [124, 140], 'source_status_id': 746080192364371968, 'id': 746080189772271620, 'url': 'https://t.co/n4fl0hWhem'}]}, 'in_reply_to_user_id': None, 'contributors': None, 'entities': {'hashtags': [{'text': 'Iran', 'indices': [18, 23]}, {'text': 'News', 'indices': [24, 29]}], 'media': [{'source_user_id_str': '62088756', 'type': 'photo', 'media_url_https': 'https://pbs.twimg.com/media/Clqb-s1VEAQwYsJ.jpg', 'expanded_url': 'http://twitter.com/Mojahedineng/status/746080192364371968/photo/1', 'source_user_id': 62088756, 'media_url': 'http://pbs.twimg.com/media/Clqb-s1VEAQwYsJ.jpg', 'sizes': {'medium': {'resize': 'fit', 'w': 500, 'h': 281}, 'small': {'resize': 'fit', 'w': 500, 'h': 281}, 'thumb': {'resize': 'crop', 'w': 150, 'h': 150}, 'large': {'resize': 'fit', 'w': 500, 'h': 281}}, 'id_str': '746080189772271620', 'source_status_id_str': '746080192364371968', 'display_url': 'pic.twitter.com/n4fl0hWhem', 'indices': [124, 140], 'source_status_id': 746080192364371968, 'id': 746080189772271620, 'url': 'https://t.co/n4fl0hWhem'}], 'symbols': [], 'user_mentions': [{'screen_name': 'Mojahedineng', 'name': 'P.M.O.I', 'id_str': '62088756', 'indices': [3, 16], 'id': 62088756}], 'urls': [{'display_url': 'dlvr.it/LddFW6', 'expanded_url': 'http://dlvr.it/LddFW6', 'indices': [100, 123], 'url': 'https://t.co/9MoMzrEoGe'}]}, 'source': '<a href=\"https://mobile.twitter.com\" rel=\"nofollow\">Mobile Web (M2)</a>', 'id': 746104113956458496, 'favorited': False, 'is_quote_status': False}, {'retweet_count': 0, 'in_reply_to_user_id_str': '16001789', 'favorite_count': 0, 'created_at': 'Thu Jun 23 22:14:19 +0000 2016', 'truncated': False, 'place': None, 'in_reply_to_screen_name': 'fineout', 'in_reply_to_status_id': 746082069625831428, 'coordinates': None, 'favorited': False, 'geo': None, 'retweeted': False, 'filter_level': 'low', 'id_str': '746104124001910784', 'in_reply_to_status_id_str': '746082069625831428', 'text': \"@fineout @HeraldTribune @FLGovScott WOW!  I didn't realize the virus was here!  What exactly are they going to do with 26 millions?\", 'user': {'location': 'United States', 'profile_text_color': '333333', 'geo_enabled': False, 'profile_image_url': 'http://pbs.twimg.com/profile_images/746060128516976640/4Ob5vtUV_normal.jpg', 'utc_offset': None, 'description': 'Crusader', 'followers_count': 10, 'protected': False, 'created_at': 'Sat Jun 18 16:49:02 +0000 2016', 'profile_use_background_image': True, 'profile_sidebar_fill_color': 'DDEEF6', 'time_zone': None, 'profile_sidebar_border_color': 'C0DEED', 'verified': False, 'favourites_count': 264, 'profile_image_url_https': 'https://pbs.twimg.com/profile_images/746060128516976640/4Ob5vtUV_normal.jpg', 'default_profile': True, 'url': None, 'screen_name': 'joe_cares', 'follow_request_sent': None, 'profile_background_image_url': '', 'profile_banner_url': 'https://pbs.twimg.com/profile_banners/744210322639192067/1466709582', 'statuses_count': 177, 'profile_background_image_url_https': '', 'following': None, 'friends_count': 19, 'default_profile_image': False, 'profile_link_color': '2B7BB9', 'contributors_enabled': False, 'id_str': '744210322639192067', 'listed_count': 2, 'is_translator': False, 'profile_background_tile': False, 'notifications': None, 'name': 'Joe Cares', 'lang': 'en', 'id': 744210322639192067, 'profile_background_color': 'F5F8FA'}, 'lang': 'en', 'timestamp_ms': '1466720059763', 'in_reply_to_user_id': 16001789, 'contributors': None, 'entities': {'hashtags': [], 'symbols': [], 'user_mentions': [{'screen_name': 'fineout', 'name': 'Gary Fineout', 'id_str': '16001789', 'indices': [0, 8], 'id': 16001789}, {'screen_name': 'HeraldTribune', 'name': 'Herald-Tribune', 'id_str': '6942422', 'indices': [9, 23], 'id': 6942422}, {'screen_name': 'FLGovScott', 'name': 'Rick Scott', 'id_str': '131546062', 'indices': [24, 35], 'id': 131546062}], 'urls': []}, 'source': '<a href=\"http://twitter.com/download/iphone\" rel=\"nofollow\">Twitter for iPhone</a>', 'id': 746104124001910784, 'is_quote_status': False}, {'possibly_sensitive': False, 'retweet_count': 0, 'in_reply_to_user_id_str': None, 'favorite_count': 0, 'created_at': 'Thu Jun 23 22:14:21 +0000 2016', 'truncated': False, 'place': None, 'in_reply_to_screen_name': None, 'in_reply_to_status_id': None, 'coordinates': None, 'favorited': False, 'geo': None, 'retweeted': False, 'filter_level': 'low', 'id_str': '746104132008816640', 'in_reply_to_status_id_str': None, 'text': 'My Nano-Virus, called Dicks, just wiped out the world in 529 days! #PlagueInc https://t.co/qtx1lPYwnl', 'user': {'location': None, 'profile_text_color': '333333', 'geo_enabled': False, 'profile_image_url': 'http://abs.twimg.com/sticky/default_profile_images/default_profile_3_normal.png', 'utc_offset': None, 'description': None, 'followers_count': 1, 'protected': False, 'created_at': 'Mon Mar 14 04:36:01 +0000 2016', 'profile_use_background_image': True, 'profile_sidebar_fill_color': 'DDEEF6', 'time_zone': None, 'profile_sidebar_border_color': 'C0DEED', 'verified': False, 'favourites_count': 1, 'profile_image_url_https': 'https://abs.twimg.com/sticky/default_profile_images/default_profile_3_normal.png', 'default_profile': True, 'url': None, 'screen_name': 'RedShadoWolf122', 'follow_request_sent': None, 'profile_background_image_url': '', 'statuses_count': 44, 'profile_background_image_url_https': '', 'following': None, 'friends_count': 6, 'default_profile_image': True, 'profile_link_color': '2B7BB9', 'contributors_enabled': False, 'id_str': '709236616024485888', 'listed_count': 0, 'is_translator': False, 'profile_background_tile': False, 'notifications': None, 'name': 'RedShadoWolf', 'lang': 'en', 'id': 709236616024485888, 'profile_background_color': 'F5F8FA'}, 'lang': 'en', 'timestamp_ms': '1466720061672', 'in_reply_to_user_id': None, 'contributors': None, 'entities': {'hashtags': [{'text': 'PlagueInc', 'indices': [67, 77]}], 'symbols': [], 'user_mentions': [], 'urls': [{'display_url': 's.ndemiccreations.com/plague/i/697aa…', 'expanded_url': 'http://s.ndemiccreations.com/plague/i/697aafab5cfa3e8d', 'indices': [78, 101], 'url': 'https://t.co/qtx1lPYwnl'}]}, 'source': '<a href=\"http://mobile.twitter.com\" rel=\"nofollow\">Mobile Web</a>', 'id': 746104132008816640, 'is_quote_status': False}]\n"
     ]
    }
   ],
   "source": [
    "tweets_data_path = '../data/Twitter_Zika_FullDataSet.txt'\n",
    "\n",
    "tweets_data_full = []\n",
    "tweets_file = open(tweets_data_path, \"r\")\n",
    "\n",
    "\n",
    "for line in tweets_file:\n",
    "    try:\n",
    "        tweet = json.loads(line)\n",
    "        tweets_data_full.append(tweet)\n",
    "    except:\n",
    "        pass \n",
    "\n",
    "print(\"This document contains %d tweets.\\n\" %(len(tweets_data_full)))\n",
    "\n",
    "print(tweets_data_full[:5])\n"
   ]
  },
  {
   "cell_type": "code",
   "execution_count": 36,
   "metadata": {
    "collapsed": false
   },
   "outputs": [
    {
     "name": "stdout",
     "output_type": "stream",
     "text": [
      "[\n",
      "  {\n",
      "    \"possibly_sensitive\"\n"
     ]
    }
   ],
   "source": [
    "s = json.dumps(tweets_data_full, indent=2)\n",
    "print(s[:30])"
   ]
  },
  {
   "cell_type": "code",
   "execution_count": 37,
   "metadata": {
    "collapsed": false
   },
   "outputs": [],
   "source": [
    "with open('../data/Twitter_Zika_FullData_JSON.json', 'w') as twitterJSONFile:\n",
    "    twitterJSONFile.write(s)"
   ]
  },
  {
   "cell_type": "code",
   "execution_count": 95,
   "metadata": {
    "collapsed": false
   },
   "outputs": [
    {
     "name": "stdout",
     "output_type": "stream",
     "text": [
      "{'limit': {'timestamp_ms': '1466729466024', 'track': 3}}\n"
     ]
    }
   ],
   "source": [
    "# Problem tweet - #6524 in twitter_data_zika.txt file\n",
    "tmpTwt = tweets_data[6524]\n",
    "print(tmpTwt)"
   ]
  },
  {
   "cell_type": "code",
   "execution_count": 42,
   "metadata": {
    "collapsed": false
   },
   "outputs": [
    {
     "name": "stdout",
     "output_type": "stream",
     "text": [
      "<class 'list'>\n"
     ]
    }
   ],
   "source": [
    "# Testing if any \"geo\" tags are found: \n",
    "for idx in range(0,len(tweets_data_full)):\n",
    "    test_tweet = tweets_data_full[idx]\n",
    "    if 'geo' in test_tweet:\n",
    "        \n",
    "        if test_tweet['geo'] is not None:\n",
    "            print('yes')\n",
    "            print(idx)\n",
    "            pass\n",
    "        else:\n",
    "            pass\n",
    "    else:\n",
    "        print('none found')\n"
   ]
  },
  {
   "cell_type": "code",
   "execution_count": 5,
   "metadata": {
    "collapsed": false
   },
   "outputs": [
    {
     "name": "stdout",
     "output_type": "stream",
     "text": [
      "600\n"
     ]
    }
   ],
   "source": [
    "tmpT = tweets_data_full[0:600]\n",
    "geo_lats1        = [(T['geo']['coordinates'][0] if T['geo'] is not None else None) for T in tmpT]\n",
    "print(len(geo_lats1))"
   ]
  },
  {
   "cell_type": "code",
   "execution_count": 6,
   "metadata": {
    "collapsed": true
   },
   "outputs": [],
   "source": [
    "# If testing the twitter_data_zika.txt file, limit the tweets_data_full range\n",
    "tweets_data_full = tweets_data_full[0:6000]"
   ]
  },
  {
   "cell_type": "code",
   "execution_count": 7,
   "metadata": {
    "collapsed": false
   },
   "outputs": [
    {
     "name": "stdout",
     "output_type": "stream",
     "text": [
      "6000\n"
     ]
    }
   ],
   "source": [
    "print(len(tweets_data_full))"
   ]
  },
  {
   "cell_type": "markdown",
   "metadata": {},
   "source": [
    "# PROBLEM TWEET - 6524 - IS CAUSING PROBLEMS in above cell"
   ]
  },
  {
   "cell_type": "code",
   "execution_count": 38,
   "metadata": {
    "collapsed": false
   },
   "outputs": [],
   "source": [
    "# list comprehension to create a data frame of important information\n",
    "\n",
    "user_ID         = [(T['user']['id'] if 'user' in T else None) for T in tweets_data_full]\n",
    "user_userName   = [(T['user']['screen_name'] if 'user' in T else None) for T in tweets_data_full]\n",
    "user_screenName = [(T['user']['name'] if 'user' in T else None) for T in tweets_data_full]\n",
    "tweet_location  = [(T['place']['full_name'] if 'full_name' in T else None) for T in tweets_data_full]\n",
    "tweet_country   = [(T['place']['country_code'] if 'country_code' in T else None) for T in tweets_data_full]\n",
    "geo_lats        = [(T['geo']['coordinates'][0] if 'geo' in T and T['geo'] is not None else None) for T in tweets_data_full]\n",
    "geo_lons        = [(T['geo']['coordinates'][1] if 'geo' in T and T['geo'] is not None else None) for T in tweets_data_full]\n",
    "tweet_time      = [(T['created_at'] if 'created_at' in T else None) for T in tweets_data_full]\n",
    "tweet_lang      = [(T['lang'] if 'lang' in T else None) for T in tweets_data_full]\n",
    "text            = [(T['text'] if 'text' in T else None) for T in tweets_data_full]\n",
    "in_reply_to_screen_name = [(T['in_reply_to_screen_name'] if 'in_reply_to_screen_name' in T else None) for T in tweets_data_full]\n"
   ]
  },
  {
   "cell_type": "code",
   "execution_count": 39,
   "metadata": {
    "collapsed": false
   },
   "outputs": [
    {
     "name": "stdout",
     "output_type": "stream",
     "text": [
      "76037\n"
     ]
    }
   ],
   "source": [
    "print(len(tweet_location))"
   ]
  },
  {
   "cell_type": "code",
   "execution_count": 40,
   "metadata": {
    "collapsed": false
   },
   "outputs": [],
   "source": [
    "# Turning the place name into a geo (lat,lon) location\n",
    "geolocator = Nominatim()\n",
    "\n",
    "tweet_loc_lats, tweet_loc_lons = [], []\n",
    "\n",
    "for idx in range(0,len(tweet_location)):\n",
    "    placeTmp = tweet_location[idx]\n",
    "    if placeTmp is not None:\n",
    "        placeGeo = geolocator.geocode(placeTmp)\n",
    "        latsTmp  = placeGeo.latitude\n",
    "        lonsTmp  = placeGeo.longitude\n",
    "        tweet_loc_lats.append(latsTmp)\n",
    "        tweet_loc_lons.append(lonsTmp)\n",
    "    else:\n",
    "        tweet_loc_lats.append(None)\n",
    "        tweet_loc_lons.append(None)\n",
    "        \n",
    "# Do the above instead of the following three lines: \n",
    "#tweet_locGeo    = [(geolocator.geocode(T['place']['full_name']) if 'place in T else None) for T in tweets_data_full]\n",
    "#tweet_loc_lats  = [(tweet_locGeo.latitude if 'place' in T else None) for T in tweets_data_full]\n",
    "#tweet_loc_lons  = [(tweet_locGeo.longitude if 'place' in T else None) for T in tweets_data_full]"
   ]
  },
  {
   "cell_type": "code",
   "execution_count": 41,
   "metadata": {
    "collapsed": false
   },
   "outputs": [
    {
     "name": "stdout",
     "output_type": "stream",
     "text": [
      "76037\n"
     ]
    }
   ],
   "source": [
    "print(len(tweet_loc_lats))"
   ]
  },
  {
   "cell_type": "code",
   "execution_count": 42,
   "metadata": {
    "collapsed": false
   },
   "outputs": [],
   "source": [
    "# Put all the lists into a Data Frame: \n",
    "\n",
    "tweets_full_dataframe = pd.DataFrame({'userID':user_ID, 'userName':user_userName, 'userScreenName':user_screenName,\n",
    "                                      'tweet_location':tweet_location,'user_lats':tweet_loc_lats,'user_lons':tweet_loc_lons,\n",
    "                                      'tweet_country':tweet_country, 'geo_lats':geo_lats, 'geo_lons':geo_lons,\n",
    "                                      'tweet_time':tweet_time, 'tweet_lang':tweet_lang, 'text':text,\n",
    "                                      'reply_to_ScreenName':in_reply_to_screen_name})\n"
   ]
  },
  {
   "cell_type": "code",
   "execution_count": 43,
   "metadata": {
    "collapsed": false
   },
   "outputs": [
    {
     "data": {
      "text/html": [
       "<div>\n",
       "<table border=\"1\" class=\"dataframe\">\n",
       "  <thead>\n",
       "    <tr style=\"text-align: right;\">\n",
       "      <th></th>\n",
       "      <th>geo_lats</th>\n",
       "      <th>geo_lons</th>\n",
       "      <th>reply_to_ScreenName</th>\n",
       "      <th>text</th>\n",
       "      <th>tweet_country</th>\n",
       "      <th>tweet_lang</th>\n",
       "      <th>tweet_location</th>\n",
       "      <th>tweet_time</th>\n",
       "      <th>userID</th>\n",
       "      <th>userName</th>\n",
       "      <th>userScreenName</th>\n",
       "      <th>user_lats</th>\n",
       "      <th>user_lons</th>\n",
       "    </tr>\n",
       "  </thead>\n",
       "  <tbody>\n",
       "    <tr>\n",
       "      <th>76032</th>\n",
       "      <td>NaN</td>\n",
       "      <td>NaN</td>\n",
       "      <td>None</td>\n",
       "      <td>Researchers will conduct Zika #study on U.S. O...</td>\n",
       "      <td>None</td>\n",
       "      <td>en</td>\n",
       "      <td>None</td>\n",
       "      <td>Thu Jul 07 13:40:15 +0000 2016</td>\n",
       "      <td>6.908175e+07</td>\n",
       "      <td>BaruchProForum</td>\n",
       "      <td>BaruchProForum</td>\n",
       "      <td>None</td>\n",
       "      <td>None</td>\n",
       "    </tr>\n",
       "    <tr>\n",
       "      <th>76033</th>\n",
       "      <td>NaN</td>\n",
       "      <td>NaN</td>\n",
       "      <td>None</td>\n",
       "      <td>RT @PublicHealth: Two experimental Zika vaccin...</td>\n",
       "      <td>None</td>\n",
       "      <td>en</td>\n",
       "      <td>None</td>\n",
       "      <td>Thu Jul 07 13:40:18 +0000 2016</td>\n",
       "      <td>7.468381e+17</td>\n",
       "      <td>AnnaNeal25</td>\n",
       "      <td>Anna Neal</td>\n",
       "      <td>None</td>\n",
       "      <td>None</td>\n",
       "    </tr>\n",
       "    <tr>\n",
       "      <th>76034</th>\n",
       "      <td>NaN</td>\n",
       "      <td>NaN</td>\n",
       "      <td>None</td>\n",
       "      <td>UPenn researchers develop $2 Zika virus test w...</td>\n",
       "      <td>None</td>\n",
       "      <td>en</td>\n",
       "      <td>None</td>\n",
       "      <td>Thu Jul 07 13:40:19 +0000 2016</td>\n",
       "      <td>3.936979e+08</td>\n",
       "      <td>Build3dprinter</td>\n",
       "      <td>B3dge</td>\n",
       "      <td>None</td>\n",
       "      <td>None</td>\n",
       "    </tr>\n",
       "    <tr>\n",
       "      <th>76035</th>\n",
       "      <td>NaN</td>\n",
       "      <td>NaN</td>\n",
       "      <td>None</td>\n",
       "      <td>Puerto Rico urged to use aerial spraying to co...</td>\n",
       "      <td>None</td>\n",
       "      <td>en</td>\n",
       "      <td>None</td>\n",
       "      <td>Thu Jul 07 13:40:19 +0000 2016</td>\n",
       "      <td>2.983548e+09</td>\n",
       "      <td>williamenafox</td>\n",
       "      <td>williamenafox</td>\n",
       "      <td>None</td>\n",
       "      <td>None</td>\n",
       "    </tr>\n",
       "    <tr>\n",
       "      <th>76036</th>\n",
       "      <td>NaN</td>\n",
       "      <td>NaN</td>\n",
       "      <td>None</td>\n",
       "      <td>#CSSContigo Dra. Gladys Guerrero de la CSS, br...</td>\n",
       "      <td>None</td>\n",
       "      <td>es</td>\n",
       "      <td>None</td>\n",
       "      <td>Thu Jul 07 13:40:22 +0000 2016</td>\n",
       "      <td>2.530538e+08</td>\n",
       "      <td>CSSPanama</td>\n",
       "      <td>CSS Panamá</td>\n",
       "      <td>None</td>\n",
       "      <td>None</td>\n",
       "    </tr>\n",
       "  </tbody>\n",
       "</table>\n",
       "</div>"
      ],
      "text/plain": [
       "       geo_lats  geo_lons reply_to_ScreenName  \\\n",
       "76032       NaN       NaN                None   \n",
       "76033       NaN       NaN                None   \n",
       "76034       NaN       NaN                None   \n",
       "76035       NaN       NaN                None   \n",
       "76036       NaN       NaN                None   \n",
       "\n",
       "                                                    text tweet_country  \\\n",
       "76032  Researchers will conduct Zika #study on U.S. O...          None   \n",
       "76033  RT @PublicHealth: Two experimental Zika vaccin...          None   \n",
       "76034  UPenn researchers develop $2 Zika virus test w...          None   \n",
       "76035  Puerto Rico urged to use aerial spraying to co...          None   \n",
       "76036  #CSSContigo Dra. Gladys Guerrero de la CSS, br...          None   \n",
       "\n",
       "      tweet_lang tweet_location                      tweet_time        userID  \\\n",
       "76032         en           None  Thu Jul 07 13:40:15 +0000 2016  6.908175e+07   \n",
       "76033         en           None  Thu Jul 07 13:40:18 +0000 2016  7.468381e+17   \n",
       "76034         en           None  Thu Jul 07 13:40:19 +0000 2016  3.936979e+08   \n",
       "76035         en           None  Thu Jul 07 13:40:19 +0000 2016  2.983548e+09   \n",
       "76036         es           None  Thu Jul 07 13:40:22 +0000 2016  2.530538e+08   \n",
       "\n",
       "             userName  userScreenName user_lats user_lons  \n",
       "76032  BaruchProForum  BaruchProForum      None      None  \n",
       "76033      AnnaNeal25       Anna Neal      None      None  \n",
       "76034  Build3dprinter           B3dge      None      None  \n",
       "76035   williamenafox   williamenafox      None      None  \n",
       "76036       CSSPanama      CSS Panamá      None      None  "
      ]
     },
     "execution_count": 43,
     "metadata": {},
     "output_type": "execute_result"
    }
   ],
   "source": [
    "tweets_full_dataframe.tail(5)"
   ]
  },
  {
   "cell_type": "code",
   "execution_count": 44,
   "metadata": {
    "collapsed": false
   },
   "outputs": [
    {
     "name": "stdout",
     "output_type": "stream",
     "text": [
      "There are 76037 tweets in this dataframe, but only 51061 unique users.\n",
      "Of the 51061 unique users, there are 43 different languages represented.\n",
      "Of the 51061 unique users, 1 listed a self-reported location.\n"
     ]
    }
   ],
   "source": [
    "# Finding unique values\n",
    "\n",
    "uniqueID       = tweets_full_dataframe.userID.unique()\n",
    "uniqueLocation = tweets_full_dataframe.tweet_location.unique()\n",
    "uniqueLanguage = tweets_full_dataframe.tweet_lang.unique()\n",
    "\n",
    "print(\"There are %d tweets in this dataframe, but only %d unique users.\" %(len(tweets_full_dataframe), len(uniqueID)))\n",
    "print(\"Of the %d unique users, there are %d different languages represented.\" %(len(uniqueID), len(uniqueLanguage)))\n",
    "print(\"Of the %d unique users, %d listed a self-reported location.\" %(len(uniqueID), len(uniqueLocation)))"
   ]
  },
  {
   "cell_type": "code",
   "execution_count": 14,
   "metadata": {
    "collapsed": false
   },
   "outputs": [
    {
     "data": {
      "text/plain": [
       "<matplotlib.axes._subplots.AxesSubplot at 0x126e78518>"
      ]
     },
     "execution_count": 14,
     "metadata": {},
     "output_type": "execute_result"
    },
    {
     "data": {
      "image/png": "[encoded data removed]",
      "text/plain": [
       "<matplotlib.figure.Figure at 0x126868198>"
      ]
     },
     "metadata": {},
     "output_type": "display_data"
    }
   ],
   "source": [
    "# Plotting the top 5 languages\n",
    "\n",
    "tweets_by_lang = tweets_full_dataframe['tweet_lang'].value_counts()\n",
    "\n",
    "fig, ax = plt.subplots()\n",
    "ax.tick_params(axis='x', labelsize=15)\n",
    "ax.tick_params(axis='y', labelsize=10)\n",
    "ax.set_xlabel('Languages', fontsize=15)\n",
    "ax.set_ylabel('Number of tweets' , fontsize=15)\n",
    "ax.set_title('Top 5 languages', fontsize=15, fontweight='bold')\n",
    "tweets_by_lang[:5].plot(ax=ax, kind='bar', color='red')"
   ]
  },
  {
   "cell_type": "code",
   "execution_count": 15,
   "metadata": {
    "collapsed": false
   },
   "outputs": [
    {
     "data": {
      "image/png": "[encoded data removed]",
      "text/plain": [
       "<matplotlib.figure.Figure at 0x126bd6278>"
      ]
     },
     "metadata": {},
     "output_type": "display_data"
    }
   ],
   "source": [
    "# Map out the tweet location by direct Lat Lon\n",
    "\n",
    "# Use the Gall–Peters projection\n",
    "map = Basemap(projection='gall', \n",
    "              resolution = 'l', \n",
    "              area_thresh = 100000.0,\n",
    "              # Centered at 0,0 (i.e null island)\n",
    "              lat_0=0, lon_0=0)\n",
    "\n",
    "# Draw the coastlines on the map\n",
    "map.drawcoastlines()\n",
    "\n",
    "# Draw country borders on the map\n",
    "map.drawcountries()\n",
    "\n",
    "# Fill the land with grey\n",
    "map.fillcontinents(color = '#888888')\n",
    "\n",
    "# Draw the map boundaries\n",
    "map.drawmapboundary(fill_color='#f4f4f4')\n",
    "\n",
    "# Define longitude and latitude points\n",
    "x,y = map(tweets_full_dataframe['geo_lons'].values, tweets_full_dataframe['geo_lats'].values)\n",
    "\n",
    "# Plot using round, red markers, size 6\n",
    "map.plot(x, y, 'ro', markersize=6)\n",
    "\n",
    "# Show the map\n",
    "plt.show()"
   ]
  }
 ],
 "metadata": {
  "kernelspec": {
   "display_name": "Python 3",
   "language": "python",
   "name": "python3"
  },
  "language_info": {
   "codemirror_mode": {
    "name": "ipython",
    "version": 3
   },
   "file_extension": ".py",
   "mimetype": "text/x-python",
   "name": "python",
   "nbconvert_exporter": "python",
   "pygments_lexer": "ipython3",
   "version": "3.5.2"
  }
 },
 "nbformat": 4,
 "nbformat_minor": 0
}
