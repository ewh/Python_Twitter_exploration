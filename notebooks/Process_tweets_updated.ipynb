{
 "cells": [
  {
   "cell_type": "code",
   "execution_count": 1,
   "metadata": {
    "collapsed": true
   },
   "outputs": [],
   "source": [
    "import re\n",
    "import json\n",
    "import matplotlib\n",
    "import pandas as pd\n",
    "import matplotlib.pyplot as plt\n",
    "from mpl_toolkits.basemap import Basemap\n",
    "from geopy.geocoders import Nominatim\n",
    "\n",
    "# Set iPython to display visualization inline\n",
    "%matplotlib inline"
   ]
  },
  {
   "cell_type": "code",
   "execution_count": 94,
   "metadata": {
    "collapsed": false
   },
   "outputs": [
    {
     "name": "stdout",
     "output_type": "stream",
     "text": [
      "This document contains 11939 tweets.\n",
      "\n",
      "11939\n"
     ]
    }
   ],
   "source": [
    "tweets_data_path = '../data/twitter_data_zika.txt'\n",
    "\n",
    "tweets_data_full = []\n",
    "tweets_file = open(tweets_data_path, \"r\")\n",
    "\n",
    "\n",
    "for line in tweets_file:\n",
    "    try:\n",
    "        tweet = json.loads(line)\n",
    "        tweets_data_full.append(tweet)\n",
    "    except:\n",
    "        pass \n",
    "\n",
    "print(\"This document contains %d tweets.\\n\" %(len(tweets_data_full)))\n",
    "\n",
    "print(len(tweets_data_full))\n",
    "#print(tweets_data_full)"
   ]
  },
  {
   "cell_type": "code",
   "execution_count": 95,
   "metadata": {
    "collapsed": false
   },
   "outputs": [
    {
     "name": "stdout",
     "output_type": "stream",
     "text": [
      "{'limit': {'timestamp_ms': '1466729466024', 'track': 3}}\n"
     ]
    }
   ],
   "source": [
    "# Problem tweet!\n",
    "tmpTwt = tweets_data[6524]\n",
    "print(tmpTwt)"
   ]
  },
  {
   "cell_type": "code",
   "execution_count": 102,
   "metadata": {
    "collapsed": false
   },
   "outputs": [],
   "source": [
    "geolocator = Nominatim()\n",
    "\n",
    "user_ID         = [(T['user']['id'] if 'user' in T else None) for T in tweets_data_full]\n",
    "user_userName   = [(T['user']['screen_name'] if 'user' in T else None) for T in tweets_data_full]\n",
    "user_screenName = [(T['user']['name'] if 'user' in T else None) for T in tweets_data_full]\n",
    "#tweet_location  = [(T['place']['full_name'] if 'place' in T else None) for T in tweets_data_full]\n",
    "#tweet_locGeo    = [(geolocator.geocode(T['place']['full_name']) if 'place in T else None) for T in tweets_data_full]\n",
    "#tweet_loc_lats  = [(tweet_locGeo.latitude if 'place' in T else None) for T in tweets_data_full]\n",
    "#tweet_loc_lons  = [(tweet_locGeo.longitude if 'place' in T else None) for T in tweets_data_full]\n",
    "#tweet_country   = [(T['place']['country_code'] if 'place' in T else None) for T in tweets_data_full]\n",
    "#geo_lats        = [(T['geo']['coordinates'][0] if 'geo' in T else None) for T in tweets_data_full]\n",
    "#geo_lons        = [(T['geo']['coordinates'][1] if 'geo' in T else None) for T in tweets_data_full]\n",
    "tweet_time      = [(T['created_at'] if 'created_at' in T else None) for T in tweets_data_full]\n",
    "tweet_lang      = [(T['lang'] if 'lang' in T else None) for T in tweets_data_full]\n",
    "text            = [(T['text'] if 'text' in T else None) for T in tweets_data_full]\n",
    "in_reply_to_screen_name = [(T['in_reply_to_screen_name'] if 'in_reply_to_screen_name' in T else None) for T in tweets_data_full]\n",
    "\n",
    "\n",
    "tweets_full_dataframe = pd.DataFrame({'userID':user_ID, 'userName':user_userName, 'userScreenName':user_screenName,\n",
    "                                      #'tweet_location':tweet_location,'user_lats':tweet_loc_lats,'user_lons':tweet_loc_lons,\n",
    "                                      #'tweet_country':tweet_country, 'geo_lats':geo_lats,'geo_lons':geo_lons,\n",
    "                                      'tweet_time':tweet_time,'tweet_lang':tweet_lang,'text':text,\n",
    "                                      'reply_to_ScreenName':in_reply_to_screen_name})\n",
    "\n",
    "# dataframe with all column names:\n",
    "#tweets_full_dataframe = pd.DataFrame({'userID':user_ID, 'userName':user_userName, 'userScreenName':user_screenName,\n",
    "#                                      'tweet_location':tweet_location,'user_lats':tweet_loc_lats,'user_lons':tweet_loc_lons,\n",
    "#                                      'tweet_country':tweet_country,'geo_lats':geo_lats,'geo_lons':geo_lons,\n",
    "#                                      'tweet_time':tweet_time,'tweet_lang':tweet_lang,'text':text,\n",
    "#                                      'reply_to_ScreenName':in_reply_to_screen_name})"
   ]
  },
  {
   "cell_type": "code",
   "execution_count": 103,
   "metadata": {
    "collapsed": false
   },
   "outputs": [
    {
     "data": {
      "text/html": [
       "<div>\n",
       "<table border=\"1\" class=\"dataframe\">\n",
       "  <thead>\n",
       "    <tr style=\"text-align: right;\">\n",
       "      <th></th>\n",
       "      <th>reply_to_ScreenName</th>\n",
       "      <th>text</th>\n",
       "      <th>tweet_lang</th>\n",
       "      <th>tweet_time</th>\n",
       "      <th>userID</th>\n",
       "      <th>userName</th>\n",
       "      <th>userScreenName</th>\n",
       "    </tr>\n",
       "  </thead>\n",
       "  <tbody>\n",
       "    <tr>\n",
       "      <th>11929</th>\n",
       "      <td>None</td>\n",
       "      <td>Ginecologista em Sete Lagoas, Avaliacao, detec...</td>\n",
       "      <td>pt</td>\n",
       "      <td>Fri Jun 24 03:26:18 +0000 2016</td>\n",
       "      <td>4.865169e+09</td>\n",
       "      <td>sete1lagoas6</td>\n",
       "      <td>Sete Lagoas - GIN</td>\n",
       "    </tr>\n",
       "    <tr>\n",
       "      <th>11930</th>\n",
       "      <td>None</td>\n",
       "      <td>RT @_juliannemoore: Gun violence claims 91 Ame...</td>\n",
       "      <td>en</td>\n",
       "      <td>Fri Jun 24 03:26:19 +0000 2016</td>\n",
       "      <td>3.512243e+08</td>\n",
       "      <td>Julia_Stirling</td>\n",
       "      <td>Julia</td>\n",
       "    </tr>\n",
       "    <tr>\n",
       "      <th>11931</th>\n",
       "      <td>None</td>\n",
       "      <td>My happy virus 💕😙\\n\\nCan't wait to see you soo...</td>\n",
       "      <td>en</td>\n",
       "      <td>Fri Jun 24 03:26:21 +0000 2016</td>\n",
       "      <td>8.057311e+07</td>\n",
       "      <td>Weonnni</td>\n",
       "      <td>wenny huang</td>\n",
       "    </tr>\n",
       "    <tr>\n",
       "      <th>11932</th>\n",
       "      <td>None</td>\n",
       "      <td>Previous exposure to dengue may make Zika wors...</td>\n",
       "      <td>en</td>\n",
       "      <td>Fri Jun 24 03:26:25 +0000 2016</td>\n",
       "      <td>7.209561e+17</td>\n",
       "      <td>JonesCarter65</td>\n",
       "      <td>Jones Carter</td>\n",
       "    </tr>\n",
       "    <tr>\n",
       "      <th>11933</th>\n",
       "      <td>None</td>\n",
       "      <td>Brazilian man with Zika virus develops severe ...</td>\n",
       "      <td>ht</td>\n",
       "      <td>Fri Jun 24 03:26:25 +0000 2016</td>\n",
       "      <td>2.955857e+09</td>\n",
       "      <td>ValBenRemedies</td>\n",
       "      <td>ValBen Remedies</td>\n",
       "    </tr>\n",
       "    <tr>\n",
       "      <th>11934</th>\n",
       "      <td>None</td>\n",
       "      <td>RT @lmjxgaga: se vc eh da minha escola saiba q...</td>\n",
       "      <td>pt</td>\n",
       "      <td>Fri Jun 24 03:26:26 +0000 2016</td>\n",
       "      <td>2.186425e+09</td>\n",
       "      <td>cabellomovin</td>\n",
       "      <td>irys</td>\n",
       "    </tr>\n",
       "    <tr>\n",
       "      <th>11935</th>\n",
       "      <td>yanderekat23</td>\n",
       "      <td>@yanderekat23 virus removed it...but even thou...</td>\n",
       "      <td>en</td>\n",
       "      <td>Fri Jun 24 03:26:28 +0000 2016</td>\n",
       "      <td>4.315990e+09</td>\n",
       "      <td>Enept1</td>\n",
       "      <td>Ze'npaul Pacheco</td>\n",
       "    </tr>\n",
       "    <tr>\n",
       "      <th>11936</th>\n",
       "      <td>None</td>\n",
       "      <td>O mulek é zika demaaais. Salve, Sangueee!!!!! ...</td>\n",
       "      <td>pt</td>\n",
       "      <td>Fri Jun 24 03:26:29 +0000 2016</td>\n",
       "      <td>5.152199e+07</td>\n",
       "      <td>cbscoutinho</td>\n",
       "      <td>Caio Coutinho</td>\n",
       "    </tr>\n",
       "    <tr>\n",
       "      <th>11937</th>\n",
       "      <td>None</td>\n",
       "      <td>Científicos descubrieron anticuerpos capaces d...</td>\n",
       "      <td>es</td>\n",
       "      <td>Fri Jun 24 03:26:30 +0000 2016</td>\n",
       "      <td>9.401643e+07</td>\n",
       "      <td>wonderisaura</td>\n",
       "      <td>Zulay Mercado</td>\n",
       "    </tr>\n",
       "    <tr>\n",
       "      <th>11938</th>\n",
       "      <td>None</td>\n",
       "      <td>Alerta: Confirman el primer caso del Virus Zik...</td>\n",
       "      <td>es</td>\n",
       "      <td>Fri Jun 24 03:26:32 +0000 2016</td>\n",
       "      <td>7.454620e+17</td>\n",
       "      <td>hugodia02333863</td>\n",
       "      <td>hugodiaz</td>\n",
       "    </tr>\n",
       "  </tbody>\n",
       "</table>\n",
       "</div>"
      ],
      "text/plain": [
       "      reply_to_ScreenName                                               text  \\\n",
       "11929                None  Ginecologista em Sete Lagoas, Avaliacao, detec...   \n",
       "11930                None  RT @_juliannemoore: Gun violence claims 91 Ame...   \n",
       "11931                None  My happy virus 💕😙\\n\\nCan't wait to see you soo...   \n",
       "11932                None  Previous exposure to dengue may make Zika wors...   \n",
       "11933                None  Brazilian man with Zika virus develops severe ...   \n",
       "11934                None  RT @lmjxgaga: se vc eh da minha escola saiba q...   \n",
       "11935        yanderekat23  @yanderekat23 virus removed it...but even thou...   \n",
       "11936                None  O mulek é zika demaaais. Salve, Sangueee!!!!! ...   \n",
       "11937                None  Científicos descubrieron anticuerpos capaces d...   \n",
       "11938                None  Alerta: Confirman el primer caso del Virus Zik...   \n",
       "\n",
       "      tweet_lang                      tweet_time        userID  \\\n",
       "11929         pt  Fri Jun 24 03:26:18 +0000 2016  4.865169e+09   \n",
       "11930         en  Fri Jun 24 03:26:19 +0000 2016  3.512243e+08   \n",
       "11931         en  Fri Jun 24 03:26:21 +0000 2016  8.057311e+07   \n",
       "11932         en  Fri Jun 24 03:26:25 +0000 2016  7.209561e+17   \n",
       "11933         ht  Fri Jun 24 03:26:25 +0000 2016  2.955857e+09   \n",
       "11934         pt  Fri Jun 24 03:26:26 +0000 2016  2.186425e+09   \n",
       "11935         en  Fri Jun 24 03:26:28 +0000 2016  4.315990e+09   \n",
       "11936         pt  Fri Jun 24 03:26:29 +0000 2016  5.152199e+07   \n",
       "11937         es  Fri Jun 24 03:26:30 +0000 2016  9.401643e+07   \n",
       "11938         es  Fri Jun 24 03:26:32 +0000 2016  7.454620e+17   \n",
       "\n",
       "              userName     userScreenName  \n",
       "11929     sete1lagoas6  Sete Lagoas - GIN  \n",
       "11930   Julia_Stirling              Julia  \n",
       "11931          Weonnni        wenny huang  \n",
       "11932    JonesCarter65       Jones Carter  \n",
       "11933   ValBenRemedies    ValBen Remedies  \n",
       "11934     cabellomovin               irys  \n",
       "11935           Enept1   Ze'npaul Pacheco  \n",
       "11936      cbscoutinho      Caio Coutinho  \n",
       "11937     wonderisaura      Zulay Mercado  \n",
       "11938  hugodia02333863           hugodiaz  "
      ]
     },
     "execution_count": 103,
     "metadata": {},
     "output_type": "execute_result"
    }
   ],
   "source": [
    "tweets_full_dataframe.tail(10)"
   ]
  },
  {
   "cell_type": "code",
   "execution_count": 106,
   "metadata": {
    "collapsed": false
   },
   "outputs": [
    {
     "name": "stdout",
     "output_type": "stream",
     "text": [
      "There are 11939 tweets in this dataframe, but only 9755 unique users.\n",
      "Of the 9755 unique users, there are 36 different languages represented.\n"
     ]
    }
   ],
   "source": [
    "# Finding unique values\n",
    "\n",
    "uniqueID       = tweets_full_dataframe.userID.unique()\n",
    "#uniqueLocation = tweets_full_dataframe.tweet_location.unique()\n",
    "uniqueLanguage = tweets_full_dataframe.tweet_lang.unique()\n",
    "\n",
    "print(\"There are %d tweets in this dataframe, but only %d unique users.\" %(len(tweets_full_dataframe), len(uniqueID)))\n",
    "print(\"Of the %d unique users, there are %d different languages represented.\" %(len(uniqueID), len(uniqueLanguage)))\n",
    "#print(\"Of the %d unique users, %d listed a self-reported location.\" %(len(uniqueID), len(uniqueLocation)))"
   ]
  },
  {
   "cell_type": "code",
   "execution_count": 107,
   "metadata": {
    "collapsed": false
   },
   "outputs": [
    {
     "data": {
      "text/plain": [
       "<matplotlib.axes._subplots.AxesSubplot at 0x128a747b8>"
      ]
     },
     "execution_count": 107,
     "metadata": {},
     "output_type": "execute_result"
    },
    {
     "data": {
      "image/png": "[encoded data removed]",
      "text/plain": [
       "<matplotlib.figure.Figure at 0x128669240>"
      ]
     },
     "metadata": {},
     "output_type": "display_data"
    }
   ],
   "source": [
    "# Plotting the top 5 languages\n",
    "\n",
    "tweets_by_lang = tweets_full_dataframe['tweet_lang'].value_counts()\n",
    "\n",
    "fig, ax = plt.subplots()\n",
    "ax.tick_params(axis='x', labelsize=15)\n",
    "ax.tick_params(axis='y', labelsize=10)\n",
    "ax.set_xlabel('Languages', fontsize=15)\n",
    "ax.set_ylabel('Number of tweets' , fontsize=15)\n",
    "ax.set_title('Top 5 languages', fontsize=15, fontweight='bold')\n",
    "tweets_by_lang[:5].plot(ax=ax, kind='bar', color='red')"
   ]
  },
  {
   "cell_type": "code",
   "execution_count": null,
   "metadata": {
    "collapsed": true
   },
   "outputs": [],
   "source": [
    "# Map out the tweet location by direct Lat Lon\n",
    "\n",
    "# Use the Gall–Peters projection\n",
    "map = Basemap(projection='gall', \n",
    "              resolution = 'l', \n",
    "              area_thresh = 100000.0,\n",
    "              # Centered at 0,0 (i.e null island)\n",
    "              lat_0=0, lon_0=0)\n",
    "\n",
    "# Draw the coastlines on the map\n",
    "map.drawcoastlines()\n",
    "\n",
    "# Draw country borders on the map\n",
    "map.drawcountries()\n",
    "\n",
    "# Fill the land with grey\n",
    "map.fillcontinents(color = '#888888')\n",
    "\n",
    "# Draw the map boundaries\n",
    "map.drawmapboundary(fill_color='#f4f4f4')\n",
    "\n",
    "# Define longitude and latitude points\n",
    "x,y = map(tweets_full_dataframe['geo_lons'].values, tweets_full_dataframe['geo_lats'].values)\n",
    "\n",
    "# Plot using round, red markers, size 6\n",
    "map.plot(x, y, 'ro', markersize=6)\n",
    "\n",
    "# Show the map\n",
    "plt.show()"
   ]
  }
 ],
 "metadata": {
  "kernelspec": {
   "display_name": "IPython (Python 3)",
   "language": "python",
   "name": "python3"
  },
  "language_info": {
   "codemirror_mode": {
    "name": "ipython",
    "version": 3
   },
   "file_extension": ".py",
   "mimetype": "text/x-python",
   "name": "python",
   "nbconvert_exporter": "python",
   "pygments_lexer": "ipython3",
   "version": "3.5.1"
  }
 },
 "nbformat": 4,
 "nbformat_minor": 0
}
