{
 "cells": [
  {
   "cell_type": "markdown",
   "metadata": {},
   "source": [
    "# Final .txt dataset :\n",
    "##  ---- includes all data recorded up through 20160708\n"
   ]
  },
  {
   "cell_type": "code",
   "execution_count": 24,
   "metadata": {
    "collapsed": false
   },
   "outputs": [
    {
     "name": "stdout",
     "output_type": "stream",
     "text": [
      "This document contains 76037 tweets.\n",
      "\n",
      "There are 76037 unique created_at times.\n",
      "There are 76037 unique timestamp_ms times.\n"
     ]
    }
   ],
   "source": [
    "import re\n",
    "import json\n",
    "\n",
    "tweets_data_path = '../data/Twitter_Zika_FullDataSet.txt'\n",
    "\n",
    "tweets_data_full = []\n",
    "tweets_file = open(tweets_data_path, \"r\")\n",
    "\n",
    "\n",
    "for line in tweets_file:\n",
    "    try:\n",
    "        tweet = json.loads(line)\n",
    "        tweets_data_full.append(tweet)\n",
    "    except:\n",
    "        pass \n",
    "\n",
    "print(\"This document contains %d tweets.\\n\" %(len(tweets_data_full)))\n",
    "\n",
    "# make a list of all the \"created_at\" times\n",
    "tweet_time      = [(T['created_at'] if 'created_at' in T else None) for T in tweets_data_full]\n",
    "tweet_time_ms   = [(T['timestamp_ms'] if 'timestamp_ms' in T else None) for T in tweets_data_full]\n",
    "\n",
    "# Compare the number of tweets to the number of \"created_at\" times\n",
    "print(\"There are %d unique created_at times.\" %(len(tweet_time)))\n",
    "print(\"There are %d unique timestamp_ms times.\" %(len(tweet_time_ms)))\n"
   ]
  },
  {
   "cell_type": "code",
   "execution_count": 14,
   "metadata": {
    "collapsed": false
   },
   "outputs": [
    {
     "name": "stdout",
     "output_type": "stream",
     "text": [
      "finished\n"
     ]
    }
   ],
   "source": [
    "import re\n",
    "\n",
    "f_orig = open('../data/twitter_zika_data_20160705.txt','r')\n",
    "f_new = open('../data/twitter_zika_data_20160705copytmp.txt', 'w')\n",
    "\n",
    "for line in f_orig:\n",
    "    p = re.compile('(Ok, this is actually running)')\n",
    "    s = p.sub(' ', line)\n",
    "    f_new.write(s)\n",
    "\n",
    "f_orig.close()\n",
    "f_new.close()\n",
    "\n",
    "print(\"finished\")\n"
   ]
  },
  {
   "cell_type": "code",
   "execution_count": 16,
   "metadata": {
    "collapsed": false
   },
   "outputs": [
    {
     "name": "stdout",
     "output_type": "stream",
     "text": [
      "finished\n"
     ]
    }
   ],
   "source": [
    "\n",
    "f_orig = open('../data/twitter_zika_data_20160705copytmp.txt','r')\n",
    "f_new = open('../data/twitter_zika_data_20160705copytmp2.txt', 'w')\n",
    "\n",
    "for line in f_orig:\n",
    "    p = re.compile('\\(\\'zika\\', u\\'{')\n",
    "    s = p.sub(' {', line)\n",
    "    f_new.write(s)\n",
    "\n",
    "f_orig.close()\n",
    "f_new.close()\n",
    "\n",
    "print(\"finished\")"
   ]
  },
  {
   "cell_type": "code",
   "execution_count": 14,
   "metadata": {
    "collapsed": false
   },
   "outputs": [
    {
     "name": "stdout",
     "output_type": "stream",
     "text": [
      "finished\n"
     ]
    }
   ],
   "source": [
    "\n",
    "f_orig = open('../data/twitter_zika_data_20160706.txt').read()\n",
    "\n",
    "oldStr = '(\\'zika\\', u\\'{'\n",
    "newStr = '{'\n",
    "\n",
    "f_orig = f_orig.replace(oldStr, newStr)\n",
    "\n",
    "f_new = open('../data/twitter_zika_data_20160706copy1.txt', 'w')\n",
    "f_new.write(f_orig)\n",
    "\n",
    "f_new.close()\n",
    "\n",
    "print(\"finished\")\n"
   ]
  },
  {
   "cell_type": "code",
   "execution_count": 15,
   "metadata": {
    "collapsed": false
   },
   "outputs": [
    {
     "name": "stdout",
     "output_type": "stream",
     "text": [
      "finished\n"
     ]
    }
   ],
   "source": [
    "\n",
    "f_orig = open('../data/twitter_zika_data_20160706copy1.txt').read()\n",
    "\n",
    "oldStr = 'Ok, this is actually running'\n",
    "newStr = '  '\n",
    "\n",
    "f_orig = f_orig.replace(oldStr, newStr)\n",
    "\n",
    "f_new = open('../data/twitter_zika_data_20160706copy2.txt', 'w')\n",
    "f_new.write(f_orig)\n",
    "\n",
    "f_new.close()\n",
    "\n",
    "print(\"finished\")\n"
   ]
  },
  {
   "cell_type": "code",
   "execution_count": 16,
   "metadata": {
    "collapsed": false
   },
   "outputs": [
    {
     "name": "stdout",
     "output_type": "stream",
     "text": [
      "finished\n"
     ]
    }
   ],
   "source": [
    "\n",
    "f_orig = open('../data/twitter_zika_data_20160706copy2.txt').read()\n",
    "\n",
    "oldS = '}\\\\r\\\\n\\')'\n",
    "newS = '} '\n",
    "\n",
    "f_orig = f_orig.replace(oldS, newS)\n",
    "\n",
    "f_new = open('../data/twitter_zika_data_20160706copy3.txt', 'w')\n",
    "f_new.write(f_orig)\n",
    "\n",
    "f_new.close()\n",
    "\n",
    "print(\"finished\")"
   ]
  },
  {
   "cell_type": "code",
   "execution_count": 22,
   "metadata": {
    "collapsed": false
   },
   "outputs": [
    {
     "name": "stdout",
     "output_type": "stream",
     "text": [
      "\\\\\n",
      "\\\n",
      "finished\n"
     ]
    }
   ],
   "source": [
    "\n",
    "f_orig = open('../data/twitter_zika_data_20160705final.txt').read()\n",
    "\n",
    "oldS = '\\\\\\\\'\n",
    "newS = '\\\\'\n",
    "\n",
    "print(oldS)\n",
    "print(newS)\n",
    "f_orig = f_orig.replace(oldS, newS)\n",
    "\n",
    "f_new = open('../data/twitter_zika_data_20160705final2.txt', 'w')\n",
    "f_new.write(f_orig)\n",
    "\n",
    "f_new.close()\n",
    "\n",
    "print(\"finished\")"
   ]
  }
 ],
 "metadata": {
  "kernelspec": {
   "display_name": "Python 3",
   "language": "python",
   "name": "python3"
  },
  "language_info": {
   "codemirror_mode": {
    "name": "ipython",
    "version": 3
   },
   "file_extension": ".py",
   "mimetype": "text/x-python",
   "name": "python",
   "nbconvert_exporter": "python",
   "pygments_lexer": "ipython3",
   "version": "3.5.2"
  }
 },
 "nbformat": 4,
 "nbformat_minor": 0
}
