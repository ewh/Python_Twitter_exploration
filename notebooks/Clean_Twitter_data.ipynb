{
 "cells": [
  {
   "cell_type": "code",
   "execution_count": null,
   "metadata": {
    "collapsed": true
   },
   "outputs": [],
   "source": [
    "import re\n",
    "\n",
    "f_orig = open('../data/twitter_zika_data_20160705.txt','r')\n",
    "f_new = open('../data/twitter_zika_data_20160705copytmp.txt', 'w')\n",
    "\n",
    "for line in f_orig:\n",
    "    p = re.compile('(Ok, this is actually running)')\n",
    "    s = p.sub(' ', line)\n",
    "    f_new.write(s)\n",
    "\n",
    "f_orig.close()\n",
    "f_new.close()\n",
    "\n",
    "print(\"finished\")\n",
    "\n",
    "f_orig = open('../data/twitter_zika_data_20160705copytmp.txt','r')\n",
    "f_new = open('../data/twitter_zika_data_20160705edited.txt', 'w')\n",
    "\n",
    "for line in f_orig:\n",
    "    p = re.compile('\\(\\'zika\\', u\\'{')\n",
    "    s = p.sub(' {', line)\n",
    "    f_new.write(s)\n",
    "\n",
    "f_orig.close()\n",
    "f_new.close()\n",
    "\n",
    "print(\"finished\")\n",
    "\n",
    "f_orig = open('../data/twitter_zika_data_20160705edited.txt','r')\n",
    "f_new = open('../data/twitter_zika_data_20160705final.txt', 'w')\n",
    "\n",
    "for line in f_orig:\n",
    "    p = re.compile('}\\\\r\\\\n\\'\\)')\n",
    "    s = p.sub('} ', line)\n",
    "    f_new.write(s)\n",
    "\n",
    "f_orig.close()\n",
    "f_new.close()\n",
    "\n",
    "print(\"finished\")"
   ]
  }
 ],
 "metadata": {
  "kernelspec": {
   "display_name": "IPython (Python 3)",
   "language": "python",
   "name": "python3"
  },
  "language_info": {
   "codemirror_mode": {
    "name": "ipython",
    "version": 3
   },
   "file_extension": ".py",
   "mimetype": "text/x-python",
   "name": "python",
   "nbconvert_exporter": "python",
   "pygments_lexer": "ipython3",
   "version": "3.5.1"
  }
 },
 "nbformat": 4,
 "nbformat_minor": 0
}
