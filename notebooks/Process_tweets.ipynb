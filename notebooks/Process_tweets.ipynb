{
 "cells": [
  {
   "cell_type": "code",
   "execution_count": 2,
   "metadata": {
    "collapsed": false
   },
   "outputs": [
    {
     "name": "stdout",
     "output_type": "stream",
     "text": [
      "This document contains 11939 tweets.\n",
      "\n",
      "The keys for the tweet are: \n",
      "\n",
      "is_quote_status\n",
      "coordinates\n",
      "timestamp_ms\n",
      "id_str\n",
      "favorited\n",
      "quoted_status_id_str\n",
      "possibly_sensitive\n",
      "quoted_status\n",
      "entities\n",
      "user\n",
      "lang\n",
      "favorite_count\n",
      "retweet_count\n",
      "in_reply_to_screen_name\n",
      "in_reply_to_status_id_str\n",
      "place\n",
      "id\n",
      "retweeted\n",
      "in_reply_to_status_id\n",
      "geo\n",
      "source\n",
      "quoted_status_id\n",
      "contributors\n",
      "filter_level\n",
      "in_reply_to_user_id\n",
      "truncated\n",
      "text\n",
      "in_reply_to_user_id_str\n",
      "created_at\n"
     ]
    }
   ],
   "source": [
    "import json\n",
    "\n",
    "tweets_data_path = '../data/twitter_data_zika.txt'\n",
    "\n",
    "tweets_data = []\n",
    "tweets_file = open(tweets_data_path, \"r\")\n",
    "\n",
    "\n",
    "for line in tweets_file:\n",
    "    try:\n",
    "        tweet = json.loads(line)\n",
    "        tweets_data.append(tweet)\n",
    "    except:\n",
    "        pass \n",
    "\n",
    "print(\"This document contains %d tweets.\\n\" %(len(tweets_data)))\n",
    "\n",
    "print(\"The keys for the tweet are: \\n\")\n",
    "test_tweet = tweets_data[0]\n",
    "print(\"\\n\".join(test_tweet.keys()))"
   ]
  },
  {
   "cell_type": "code",
   "execution_count": 12,
   "metadata": {
    "collapsed": false
   },
   "outputs": [],
   "source": [
    "# langList = [tmpTweet['lang'] for tmpTweet in tweets_data]"
   ]
  },
  {
   "cell_type": "code",
   "execution_count": 13,
   "metadata": {
    "collapsed": false
   },
   "outputs": [
    {
     "name": "stdout",
     "output_type": "stream",
     "text": [
      "11940\n"
     ]
    }
   ],
   "source": [
    "type(tweets_data)\n",
    "print(len(tweets_data)+1)"
   ]
  },
  {
   "cell_type": "code",
   "execution_count": 3,
   "metadata": {
    "collapsed": false
   },
   "outputs": [
    {
     "name": "stdout",
     "output_type": "stream",
     "text": [
      "59\n"
     ]
    }
   ],
   "source": [
    "%matplotlib inline\n",
    "\n",
    "import matplotlib\n",
    "import pandas as pd\n",
    "import matplotlib.pyplot as plt\n",
    "\n",
    "tweetsDataFrame = pd.DataFrame()\n",
    "\n",
    "for idx in range(1,len(tweets_data)+1):\n",
    "    try:\n",
    "        rowTmp = tweets_data[idx]\n",
    "        t = rowTmp['text']\n",
    "        l = rowTmp['lang']\n",
    "        lats = rowTmp['geo']['coordinates'][0]\n",
    "        lons = rowTmp['geo']['coordinates'][1]\n",
    "        tmp = pd.DataFrame({'text': t, 'lang': l, 'lats': lats, 'lons': lons}, index=[idx])\n",
    "        tweetsDataFrame = pd.concat([tweetsDataFrame, tmp])\n",
    "    except:\n",
    "        pass\n",
    "    \n",
    "print(len(tweetsDataFrame))"
   ]
  },
  {
   "cell_type": "code",
   "execution_count": 4,
   "metadata": {
    "collapsed": false
   },
   "outputs": [
    {
     "name": "stdout",
     "output_type": "stream",
     "text": [
      "      lang       lats        lons  \\\n",
      "366     da  50.774775    5.470622   \n",
      "850     en  30.326331  -81.653395   \n",
      "1902    pt -23.963427  -46.307066   \n",
      "2299    pt -16.692271  -49.317574   \n",
      "3858    en  33.168701  -96.961601   \n",
      "3957    en  29.881399  -95.454399   \n",
      "3972    en  29.746300  -95.447502   \n",
      "3987    en  29.910801  -95.337898   \n",
      "4000    en  32.964500  -96.984901   \n",
      "4001    en  29.700600  -95.585701   \n",
      "4017    en  29.393801  -95.245102   \n",
      "4028    en  29.175301  -95.453102   \n",
      "4055    en  29.708300  -95.465897   \n",
      "4065    en  29.748301  -95.488899   \n",
      "4079    en  30.297899  -94.905098   \n",
      "4093    en  29.767599  -95.158798   \n",
      "4114    en  30.304001  -95.431297   \n",
      "4125    en  29.914499  -95.653099   \n",
      "4140    en  30.065800  -94.905502   \n",
      "4168    en  29.713800  -95.116997   \n",
      "4175    en  29.456600  -95.043999   \n",
      "4191    en  29.750200  -95.367699   \n",
      "4218    en  29.545500  -95.468399   \n",
      "4251    en  29.740101  -95.233299   \n",
      "4262    en  29.306801  -94.771896   \n",
      "4275    en  29.798300  -95.419098   \n",
      "4321    en  29.761700  -95.255203   \n",
      "4353    en  29.535101  -95.032700   \n",
      "4379    en  29.362000  -94.979797   \n",
      "4397    en  29.683001  -95.048203   \n",
      "4413    en  29.511600  -95.087097   \n",
      "4428    en  30.098900  -94.726799   \n",
      "4430    en  29.770700  -94.875397   \n",
      "4455    en  30.698999  -94.847000   \n",
      "4482    en  29.474701  -95.359901   \n",
      "4502    en  29.763800  -95.500504   \n",
      "4523    en  29.748800  -95.343803   \n",
      "4547    en  29.528700  -95.529198   \n",
      "4569    en  30.311800  -95.674500   \n",
      "4584    en  29.739599  -95.388298   \n",
      "4594    en  29.648300  -95.140297   \n",
      "4624    en  29.739901  -95.523804   \n",
      "4636    en  29.667801  -95.722099   \n",
      "4737    en  29.998699  -95.261803   \n",
      "4854    en  29.520800  -95.190598   \n",
      "5045    en  29.851400  -95.258698   \n",
      "5158    en  30.009501  -95.292999   \n",
      "5202    en  31.775340 -106.288778   \n",
      "5279    en  29.542801  -95.345703   \n",
      "5330    en  30.209801  -95.662300   \n",
      "5379    pt -30.008162  -51.046402   \n",
      "5386    pt -25.370366  -49.179746   \n",
      "5430    en  29.740200  -95.830200   \n",
      "6211    es  18.486700  -69.940500   \n",
      "6213   und -22.910001  -43.179868   \n",
      "7047    in  -6.970913  110.391221   \n",
      "9662    en  29.590626  -81.221208   \n",
      "9861    in -23.674617  -46.651670   \n",
      "11936   pt -23.565689  -46.651312   \n",
      "\n",
      "                                                    text  \n",
      "366    Android virus Godless breekt in op de smartpho...  \n",
      "850    No help from DC? Florida to spend millions on ...  \n",
      "1902                                 minha barba ta zika  \n",
      "2299   América Latina registra aumento de abortos apó...  \n",
      "3858   Insect tests positive for West Nile Virus http...  \n",
      "3957   AgriLife Extension Entomologists Provide Advic...  \n",
      "3972   AgriLife Extension Entomologists Provide Advic...  \n",
      "3987   AgriLife Extension Entomologists Provide Advic...  \n",
      "4000   DCHHS confirms 10th Zika case of 2016 https://...  \n",
      "4001   AgriLife Extension Entomologists Provide Advic...  \n",
      "4017   AgriLife Extension Entomologists Provide Advic...  \n",
      "4028   AgriLife Extension Entomologists Provide Advic...  \n",
      "4055   AgriLife Extension Entomologists Provide Advic...  \n",
      "4065   AgriLife Extension Entomologists Provide Advic...  \n",
      "4079   AgriLife Extension Entomologists Provide Advic...  \n",
      "4093   AgriLife Extension Entomologists Provide Advic...  \n",
      "4114   AgriLife Extension Entomologists Provide Advic...  \n",
      "4125   AgriLife Extension Entomologists Provide Advic...  \n",
      "4140   AgriLife Extension Entomologists Provide Advic...  \n",
      "4168   AgriLife Extension Entomologists Provide Advic...  \n",
      "4175   AgriLife Extension Entomologists Provide Advic...  \n",
      "4191   AgriLife Extension Entomologists Provide Advic...  \n",
      "4218   AgriLife Extension Entomologists Provide Advic...  \n",
      "4251   AgriLife Extension Entomologists Provide Advic...  \n",
      "4262   AgriLife Extension Entomologists Provide Advic...  \n",
      "4275   AgriLife Extension Entomologists Provide Advic...  \n",
      "4321   AgriLife Extension Entomologists Provide Advic...  \n",
      "4353   AgriLife Extension Entomologists Provide Advic...  \n",
      "4379   AgriLife Extension Entomologists Provide Advic...  \n",
      "4397   AgriLife Extension Entomologists Provide Advic...  \n",
      "4413   AgriLife Extension Entomologists Provide Advic...  \n",
      "4428   AgriLife Extension Entomologists Provide Advic...  \n",
      "4430   AgriLife Extension Entomologists Provide Advic...  \n",
      "4455   AgriLife Extension Entomologists Provide Advic...  \n",
      "4482   AgriLife Extension Entomologists Provide Advic...  \n",
      "4502   AgriLife Extension Entomologists Provide Advic...  \n",
      "4523   AgriLife Extension Entomologists Provide Advic...  \n",
      "4547   AgriLife Extension Entomologists Provide Advic...  \n",
      "4569   AgriLife Extension Entomologists Provide Advic...  \n",
      "4584   AgriLife Extension Entomologists Provide Advic...  \n",
      "4594   AgriLife Extension Entomologists Provide Advic...  \n",
      "4624   AgriLife Extension Entomologists Provide Advic...  \n",
      "4636   AgriLife Extension Entomologists Provide Advic...  \n",
      "4737   AgriLife Extension Entomologists Provide Advic...  \n",
      "4854   AgriLife Extension Entomologists Provide Advic...  \n",
      "5045   AgriLife Extension Entomologists Provide Advic...  \n",
      "5158   AgriLife Extension Entomologists Provide Advic...  \n",
      "5202   @600espnelpaso The Zika Virus is the less of t...  \n",
      "5279   AgriLife Extension Entomologists Provide Advic...  \n",
      "5330   AgriLife Extension Entomologists Provide Advic...  \n",
      "5379        Até quando essa zika vai ficar no Grêmio ???  \n",
      "5386                                Preto zika truta meu  \n",
      "5430   AgriLife Extension Entomologists Provide Advic...  \n",
      "6211   'Zika' apareció el miércoles 22 ocupando el 10...  \n",
      "6213   #rio2016 #olympics #brazil #zika #zikavirus #n...  \n",
      "7047   Penyebar virus💉 @ Stikes Telogorejo https://t....  \n",
      "9662   About Zika virus. How about DDT?  $1B cheaper ...  \n",
      "9861                                       zika memo ein  \n",
      "11936  O mulek é zika demaaais. Salve, Sangueee!!!!! ...  \n"
     ]
    }
   ],
   "source": [
    "print(tweetsDataFrame)"
   ]
  },
  {
   "cell_type": "code",
   "execution_count": 18,
   "metadata": {
    "collapsed": false
   },
   "outputs": [
    {
     "name": "stdout",
     "output_type": "stream",
     "text": [
      "dict_keys(['retweet_count', 'lang', 'user', 'possibly_sensitive', 'text', 'coordinates', 'id', 'in_reply_to_status_id', 'is_quote_status', 'favorite_count', 'filter_level', 'in_reply_to_screen_name', 'timestamp_ms', 'retweeted', 'geo', 'in_reply_to_user_id', 'source', 'in_reply_to_user_id_str', 'id_str', 'contributors', 'place', 'in_reply_to_status_id_str', 'truncated', 'entities', 'created_at', 'favorited'])\n"
     ]
    }
   ],
   "source": [
    "test_tweet = tweets_data[366]\n",
    "print(test_tweet.keys())"
   ]
  },
  {
   "cell_type": "code",
   "execution_count": 19,
   "metadata": {
    "collapsed": false
   },
   "outputs": [
    {
     "name": "stdout",
     "output_type": "stream",
     "text": [
      "{'type': 'Point', 'coordinates': [5.47062188, 50.77477477]}\n",
      "dict_keys(['verified', 'lang', 'profile_background_image_url_https', 'description', 'statuses_count', 'profile_image_url', 'id', 'followers_count', 'favourites_count', 'url', 'name', 'protected', 'profile_link_color', 'screen_name', 'profile_sidebar_border_color', 'profile_image_url_https', 'default_profile_image', 'profile_use_background_image', 'location', 'following', 'listed_count', 'profile_text_color', 'notifications', 'utc_offset', 'default_profile', 'profile_background_image_url', 'profile_sidebar_fill_color', 'follow_request_sent', 'profile_background_color', 'time_zone', 'friends_count', 'profile_banner_url', 'created_at', 'profile_background_tile', 'id_str', 'contributors_enabled', 'is_translator', 'geo_enabled'])\n",
      "True\n",
      "{'type': 'Point', 'coordinates': [50.77477477, 5.47062188]}\n"
     ]
    }
   ],
   "source": [
    "print(test_tweet['coordinates'])\n",
    "print(test_tweet['user'].keys())\n",
    "print(test_tweet['user']['geo_enabled'])\n",
    "print(test_tweet['geo'])\n"
   ]
  },
  {
   "cell_type": "code",
   "execution_count": 5,
   "metadata": {
    "collapsed": false
   },
   "outputs": [
    {
     "data": {
      "text/plain": [
       "<matplotlib.axes._subplots.AxesSubplot at 0x1261a25f8>"
      ]
     },
     "execution_count": 5,
     "metadata": {},
     "output_type": "execute_result"
    },
    {
     "data": {
      "image/png": "[encoded data removed]",
      "text/plain": [
       "<matplotlib.figure.Figure at 0x1261a2828>"
      ]
     },
     "metadata": {},
     "output_type": "display_data"
    }
   ],
   "source": [
    "tweets_by_lang = tweetsDataFrame['lang'].value_counts()\n",
    "\n",
    "fig, ax = plt.subplots()\n",
    "ax.tick_params(axis='x', labelsize=15)\n",
    "ax.tick_params(axis='y', labelsize=10)\n",
    "ax.set_xlabel('Languages', fontsize=15)\n",
    "ax.set_ylabel('Number of tweets' , fontsize=15)\n",
    "ax.set_title('Top 5 languages', fontsize=15, fontweight='bold')\n",
    "tweets_by_lang[:5].plot(ax=ax, kind='bar', color='red')\n"
   ]
  },
  {
   "cell_type": "code",
   "execution_count": 6,
   "metadata": {
    "collapsed": false
   },
   "outputs": [
    {
     "data": {
      "image/png": "[encoded data removed]",
      "text/plain": [
       "<matplotlib.figure.Figure at 0x10e8ac630>"
      ]
     },
     "metadata": {},
     "output_type": "display_data"
    }
   ],
   "source": [
    "from mpl_toolkits.basemap import Basemap\n",
    "\n",
    "# Set iPython to display visualization inline\n",
    "%matplotlib inline\n",
    "\n",
    "# Create a map, using the Gall–Peters projection, \n",
    "map = Basemap(projection='gall', \n",
    "              # with low resolution,\n",
    "              resolution = 'l', \n",
    "              # And threshold 100000\n",
    "              area_thresh = 100000.0,\n",
    "              # Centered at 0,0 (i.e null island)\n",
    "              lat_0=0, lon_0=0)\n",
    "\n",
    "# Draw the coastlines on the map\n",
    "map.drawcoastlines()\n",
    "\n",
    "# Draw country borders on the map\n",
    "map.drawcountries()\n",
    "\n",
    "# Fill the land with grey\n",
    "map.fillcontinents(color = '#888888')\n",
    "\n",
    "# Draw the map boundaries\n",
    "map.drawmapboundary(fill_color='#f4f4f4')\n",
    "\n",
    "# Define our longitude and latitude points\n",
    "# We have to use .values because of a wierd bug when passing pandas data\n",
    "# to basemap.\n",
    "x,y = map(tweetsDataFrame['lons'].values, tweetsDataFrame['lats'].values)\n",
    "\n",
    "# Plot them using round markers of size 6\n",
    "map.plot(x, y, 'ro', markersize=6)\n",
    "\n",
    "# Show the map\n",
    "plt.show()"
   ]
  }
 ],
 "metadata": {
  "kernelspec": {
   "display_name": "IPython (Python 3)",
   "language": "python",
   "name": "python3"
  },
  "language_info": {
   "codemirror_mode": {
    "name": "ipython",
    "version": 3
   },
   "file_extension": ".py",
   "mimetype": "text/x-python",
   "name": "python",
   "nbconvert_exporter": "python",
   "pygments_lexer": "ipython3",
   "version": "3.5.1"
  }
 },
 "nbformat": 4,
 "nbformat_minor": 0
}
