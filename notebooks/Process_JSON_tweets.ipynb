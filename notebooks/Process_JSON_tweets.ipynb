{
 "cells": [
  {
   "cell_type": "code",
   "execution_count": 1,
   "metadata": {
    "collapsed": false
   },
   "outputs": [],
   "source": [
    "import re\n",
    "import json\n",
    "import pandas as pd\n",
    "import matplotlib\n",
    "matplotlib.use('nbAgg')\n",
    "from mpl_toolkits.basemap import Basemap\n",
    "import numpy as np\n",
    "import matplotlib.pyplot as plt\n",
    "from geopy.geocoders import Nominatim\n",
    "\n",
    "# Set iPython to display visualization inline\n",
    "%matplotlib inline"
   ]
  },
  {
   "cell_type": "code",
   "execution_count": 2,
   "metadata": {
    "collapsed": false,
    "scrolled": true
   },
   "outputs": [
    {
     "ename": "FileNotFoundError",
     "evalue": "[Errno 2] No such file or directory: '../data/Twitter_Zika_FullDataSet.txt'",
     "output_type": "error",
     "traceback": [
      "\u001b[0;31m---------------------------------------------------------------------------\u001b[0m",
      "\u001b[0;31mFileNotFoundError\u001b[0m                         Traceback (most recent call last)",
      "\u001b[0;32m<ipython-input-2-cd751f34c691>\u001b[0m in \u001b[0;36m<module>\u001b[0;34m()\u001b[0m\n\u001b[1;32m      2\u001b[0m \u001b[0;34m\u001b[0m\u001b[0m\n\u001b[1;32m      3\u001b[0m \u001b[0mtweets_data_full\u001b[0m \u001b[0;34m=\u001b[0m \u001b[0;34m[\u001b[0m\u001b[0;34m]\u001b[0m\u001b[0;34m\u001b[0m\u001b[0m\n\u001b[0;32m----> 4\u001b[0;31m \u001b[0mtweets_file\u001b[0m \u001b[0;34m=\u001b[0m \u001b[0mopen\u001b[0m\u001b[0;34m(\u001b[0m\u001b[0mtweets_data_path\u001b[0m\u001b[0;34m,\u001b[0m \u001b[0;34m\"r\"\u001b[0m\u001b[0;34m)\u001b[0m\u001b[0;34m\u001b[0m\u001b[0m\n\u001b[0m\u001b[1;32m      5\u001b[0m \u001b[0;34m\u001b[0m\u001b[0m\n\u001b[1;32m      6\u001b[0m \u001b[0;34m\u001b[0m\u001b[0m\n",
      "\u001b[0;31mFileNotFoundError\u001b[0m: [Errno 2] No such file or directory: '../data/Twitter_Zika_FullDataSet.txt'"
     ]
    }
   ],
   "source": [
    "tweets_data_path = '../data/Twitter_Zika_FullDataSet.txt'\n",
    "\n",
    "tweets_data_full = []\n",
    "tweets_file = open(tweets_data_path, \"r\")\n",
    "\n",
    "\n",
    "for line in tweets_file:\n",
    "    try:\n",
    "        tweet = json.loads(line)\n",
    "        tweets_data_full.append(tweet)\n",
    "    except:\n",
    "        pass \n",
    "\n",
    "print(\"This document contains %d tweets.\\n\" %(len(tweets_data_full)))\n"
   ]
  },
  {
   "cell_type": "code",
   "execution_count": 6,
   "metadata": {
    "collapsed": false
   },
   "outputs": [
    {
     "name": "stdout",
     "output_type": "stream",
     "text": [
      "[\n",
      "  {\n",
      "    \"in_reply_to_status_\n"
     ]
    }
   ],
   "source": [
    "s = json.dumps(tweets_data_full, indent=2)\n",
    "print(s[:30])"
   ]
  },
  {
   "cell_type": "code",
   "execution_count": 7,
   "metadata": {
    "collapsed": true
   },
   "outputs": [],
   "source": [
    "# Write out FULL Twitter JSON File:\n",
    "with open('../data/Twitter_Zika_FullData.json', 'w') as twitterJSONFile_out:\n",
    "    twitterJSONFile_out.write(s)"
   ]
  },
  {
   "cell_type": "code",
   "execution_count": 2,
   "metadata": {
    "collapsed": false
   },
   "outputs": [
    {
     "name": "stdout",
     "output_type": "stream",
     "text": [
      "<class 'list'>\n"
     ]
    }
   ],
   "source": [
    "# Read in FULL Twitter JSON File:\n",
    "with open('../data/Twitter_Zika_FullData.json', 'r') as twitterJSONFile_in:\n",
    "    tweets_data_full = json.load(twitterJSONFile_in)\n",
    "\n",
    "print(type(tweets_data_full))\n"
   ]
  },
  {
   "cell_type": "code",
   "execution_count": 3,
   "metadata": {
    "collapsed": true
   },
   "outputs": [],
   "source": [
    "# list comprehension to create a data frame of important information\n",
    "\n",
    "user_ID         = [(T['user']['id'] if 'user' in T else None) for T in tweets_data_full]\n",
    "user_userName   = [(T['user']['screen_name'] if 'user' in T else None) for T in tweets_data_full]\n",
    "user_screenName = [(T['user']['name'] if 'user' in T else None) for T in tweets_data_full]\n",
    "tweet_location  = [(T['place']['full_name'] if 'place' in T and T['place'] is not None else None) for T in tweets_data_full]\n",
    "tweet_country   = [(T['place']['country_code'] if 'country_code' in T else None) for T in tweets_data_full]\n",
    "geo_lats        = [(T['geo']['coordinates'][0] if 'geo' in T and T['geo'] is not None else None) for T in tweets_data_full]\n",
    "geo_lons        = [(T['geo']['coordinates'][1] if 'geo' in T and T['geo'] is not None else None) for T in tweets_data_full]\n",
    "tweet_time      = [(T['created_at'] if 'created_at' in T else None) for T in tweets_data_full]\n",
    "tweet_lang      = [(T['lang'] if 'lang' in T and T['lang']!='und' else None) for T in tweets_data_full]\n",
    "text            = [(T['text'] if 'text' in T else None) for T in tweets_data_full]\n",
    "in_reply_to_screen_name = [(T['in_reply_to_screen_name'] if 'in_reply_to_screen_name' in T else None) for T in tweets_data_full]\n"
   ]
  },
  {
   "cell_type": "code",
   "execution_count": 4,
   "metadata": {
    "collapsed": false
   },
   "outputs": [
    {
     "name": "stdout",
     "output_type": "stream",
     "text": [
      "1264\n",
      "684\n"
     ]
    }
   ],
   "source": [
    "tweet_location_names  = [x for x in tweet_location if x is not None]\n",
    "print(len(tweet_location_names))\n",
    "tweet_location_unique = set(tweet_location_names)\n",
    "print(len(tweet_location_unique))"
   ]
  },
  {
   "cell_type": "code",
   "execution_count": 6,
   "metadata": {
    "collapsed": true
   },
   "outputs": [],
   "source": [
    "tweet_lat_lon_dict = {}"
   ]
  },
  {
   "cell_type": "code",
   "execution_count": 7,
   "metadata": {
    "collapsed": false
   },
   "outputs": [
    {
     "name": "stdout",
     "output_type": "stream",
     "text": [
      "0\n",
      "20\n",
      "40\n",
      "60\n",
      "80\n",
      "100\n",
      "exception happened <class 'geopy.exc.GeocoderTimedOut'> Service timed out\n",
      "exception happened <class 'geopy.exc.GeocoderTimedOut'> Service timed out\n",
      "120\n",
      "140\n",
      "160\n",
      "180\n",
      "exception happened <class 'geopy.exc.GeocoderTimedOut'> Service timed out\n",
      "200\n",
      "220\n",
      "240\n",
      "260\n",
      "280\n",
      "300\n",
      "320\n",
      "340\n",
      "360\n",
      "exception happened <class 'geopy.exc.GeocoderTimedOut'> Service timed out\n",
      "exception happened <class 'geopy.exc.GeocoderTimedOut'> Service timed out\n",
      "380\n",
      "400\n",
      "exception happened <class 'geopy.exc.GeocoderTimedOut'> Service timed out\n",
      "exception happened <class 'geopy.exc.GeocoderTimedOut'> Service timed out\n",
      "420\n",
      "exception happened <class 'geopy.exc.GeocoderTimedOut'> Service timed out\n",
      "440\n",
      "460\n",
      "exception happened <class 'geopy.exc.GeocoderTimedOut'> Service timed out\n",
      "exception happened <class 'geopy.exc.GeocoderTimedOut'> Service timed out\n",
      "480\n",
      "exception happened <class 'geopy.exc.GeocoderTimedOut'> Service timed out\n",
      "500\n",
      "exception happened <class 'geopy.exc.GeocoderTimedOut'> Service timed out\n",
      "520\n",
      "540\n",
      "560\n",
      "580\n",
      "600\n",
      "620\n",
      "640\n",
      "exception happened <class 'geopy.exc.GeocoderTimedOut'> Service timed out\n",
      "exception happened <class 'geopy.exc.GeocoderTimedOut'> Service timed out\n",
      "660\n",
      "exception happened <class 'geopy.exc.GeocoderTimedOut'> Service timed out\n",
      "exception happened <class 'geopy.exc.GeocoderTimedOut'> Service timed out\n",
      "exception happened <class 'geopy.exc.GeocoderTimedOut'> Service timed out\n",
      "exception happened <class 'geopy.exc.GeocoderTimedOut'> Service timed out\n",
      "exception happened <class 'geopy.exc.GeocoderTimedOut'> Service timed out\n",
      "exception happened <class 'geopy.exc.GeocoderTimedOut'> Service timed out\n",
      "exception happened <class 'geopy.exc.GeocoderTimedOut'> Service timed out\n",
      "exception happened <class 'geopy.exc.GeocoderTimedOut'> Service timed out\n",
      "exception happened <class 'geopy.exc.GeocoderTimedOut'> Service timed out\n",
      "exception happened <class 'geopy.exc.GeocoderTimedOut'> Service timed out\n",
      "exception happened <class 'geopy.exc.GeocoderTimedOut'> Service timed out\n",
      "exception happened <class 'geopy.exc.GeocoderTimedOut'> Service timed out\n",
      "exception happened <class 'geopy.exc.GeocoderTimedOut'> Service timed out\n",
      "exception happened <class 'geopy.exc.GeocoderTimedOut'> Service timed out\n",
      "exception happened <class 'geopy.exc.GeocoderTimedOut'> Service timed out\n",
      "680\n",
      "exception happened <class 'geopy.exc.GeocoderTimedOut'> Service timed out\n",
      "exception happened <class 'geopy.exc.GeocoderTimedOut'> Service timed out\n"
     ]
    }
   ],
   "source": [
    "# Turning the place name into a geo (lat,lon) location\n",
    "geolocator = Nominatim()\n",
    "\n",
    "for i, placeName in enumerate(tweet_location_unique):\n",
    "    if placeName not in tweet_lat_lon_dict:\n",
    "        try:\n",
    "            placeGeo  = geolocator.geocode(placeName)\n",
    "        except Exception as E:\n",
    "            print(\"exception happened\", type(E), E)\n",
    "\n",
    "        if i % 20 == 0:\n",
    "            print(i)\n",
    "        if placeGeo is not None:\n",
    "            tweet_lat_lon_dict[placeName] = (placeGeo.latitude, placeGeo.longitude)\n",
    "        else:\n",
    "            tweet_lat_lon_dict[placeName] = (None, None)\n",
    "    "
   ]
  },
  {
   "cell_type": "code",
   "execution_count": 8,
   "metadata": {
    "collapsed": false
   },
   "outputs": [
    {
     "name": "stdout",
     "output_type": "stream",
     "text": [
      "684\n",
      "9\n",
      "KwaLenza, South Africa\n",
      "Piltenes pagasts, Latvija\n",
      "Senna Saint Denis, Ile-de-France\n",
      "anto Domingo de Guzmán, Dominican Republic\n",
      "Twentynine Palms Base, CA\n",
      "Vododara, India\n",
      "Kuala Lumpur City, Kuala Lumpur Federal Territory\n",
      "Tanjong Kling, Melaka\n",
      "Tampin Tengah, Negeri Sembilan\n"
     ]
    }
   ],
   "source": [
    "print(len(tweet_lat_lon_dict))\n",
    "bad_place_names = [k for k,v in tweet_lat_lon_dict.items() if v == (None,None)]\n",
    "print(len(bad_place_names))\n",
    "print(\"\\n\".join(bad_place_names))\n"
   ]
  },
  {
   "cell_type": "code",
   "execution_count": 9,
   "metadata": {
    "collapsed": true
   },
   "outputs": [],
   "source": [
    "# Write out the dictionary of place names and corresponding latitutes & longitudes to a JSON file\n",
    "with open('../data/Twitter_Zika_PlaceName_Geo_info.json', 'w') as twitterGeo_JSONFile:\n",
    "    json.dump(tweet_lat_lon_dict, twitterGeo_JSONFile, indent=2)"
   ]
  },
  {
   "cell_type": "code",
   "execution_count": 4,
   "metadata": {
    "collapsed": false
   },
   "outputs": [
    {
     "name": "stdout",
     "output_type": "stream",
     "text": [
      "<class 'dict'>\n"
     ]
    }
   ],
   "source": [
    "# read in the dictionary of place names and corresponding latitutes & longitudes - JSON file \n",
    "with open('../data/Twitter_Zika_PlaceName_Geo_info.json', 'r') as tweet_Geo_JSON_File:\n",
    "    tweet_GeoDict = json.load(tweet_Geo_JSON_File)\n",
    "\n",
    "print(type(tweet_GeoDict))\n"
   ]
  },
  {
   "cell_type": "code",
   "execution_count": 6,
   "metadata": {
    "collapsed": false
   },
   "outputs": [
    {
     "name": "stdout",
     "output_type": "stream",
     "text": [
      "38.8108291\n"
     ]
    }
   ],
   "source": [
    "list(tweet_location_unique)[0]\n",
    "la,lo = tweet_GeoDict['Johnson Village, CO']\n",
    "print(la)\n"
   ]
  },
  {
   "cell_type": "code",
   "execution_count": 5,
   "metadata": {
    "collapsed": true
   },
   "outputs": [],
   "source": [
    "# Create two lists: tweet_loc_lats & tweet_loc_lons - each the length of the full tweet_location list\n",
    "\n",
    "tweet_loc_lats = []\n",
    "tweet_loc_lons = []\n"
   ]
  },
  {
   "cell_type": "code",
   "execution_count": 6,
   "metadata": {
    "collapsed": true
   },
   "outputs": [],
   "source": [
    "# Populate the lists with values\n",
    "for placeName in tweet_location:\n",
    "    if placeName is not None:\n",
    "        tmplat,tmplon = tweet_GeoDict[placeName]\n",
    "        tweet_loc_lats.append(tmplat)\n",
    "        tweet_loc_lons.append(tmplon)\n",
    "    else:\n",
    "        tweet_loc_lats.append(None)\n",
    "        tweet_loc_lons.append(None)        \n"
   ]
  },
  {
   "cell_type": "code",
   "execution_count": 7,
   "metadata": {
    "collapsed": true
   },
   "outputs": [],
   "source": [
    "# Put all the lists into a Data Frame: \n",
    "\n",
    "tweets_full_dataframe = pd.DataFrame({'userID':user_ID, 'userName':user_userName, 'userScreenName':user_screenName,\n",
    "                                      'user_profile_location':tweet_location,\n",
    "                                      'user_lats':tweet_loc_lats,'user_lons':tweet_loc_lons,\n",
    "                                      'tweet_country':tweet_country, 'geo_lats':geo_lats, 'geo_lons':geo_lons,\n",
    "                                      'tweet_time':tweet_time, 'tweet_lang':tweet_lang, 'text':text,\n",
    "                                      'reply_to_ScreenName':in_reply_to_screen_name})\n"
   ]
  },
  {
   "cell_type": "code",
   "execution_count": 29,
   "metadata": {
    "collapsed": false
   },
   "outputs": [
    {
     "data": {
      "text/html": [
       "<div>\n",
       "<table border=\"1\" class=\"dataframe\">\n",
       "  <thead>\n",
       "    <tr style=\"text-align: right;\">\n",
       "      <th></th>\n",
       "      <th>geo_lats</th>\n",
       "      <th>geo_lons</th>\n",
       "      <th>reply_to_ScreenName</th>\n",
       "      <th>text</th>\n",
       "      <th>tweet_country</th>\n",
       "      <th>tweet_lang</th>\n",
       "      <th>tweet_location</th>\n",
       "      <th>tweet_time</th>\n",
       "      <th>userID</th>\n",
       "      <th>userName</th>\n",
       "      <th>userScreenName</th>\n",
       "      <th>user_lats</th>\n",
       "      <th>user_lons</th>\n",
       "    </tr>\n",
       "  </thead>\n",
       "  <tbody>\n",
       "    <tr>\n",
       "      <th>0</th>\n",
       "      <td>NaN</td>\n",
       "      <td>NaN</td>\n",
       "      <td>None</td>\n",
       "      <td>Factbox: Why the Zika virus is causing alarm -...</td>\n",
       "      <td>None</td>\n",
       "      <td>en</td>\n",
       "      <td>None</td>\n",
       "      <td>Thu Jun 23 22:14:13 +0000 2016</td>\n",
       "      <td>4.263548e+08</td>\n",
       "      <td>meta_guide_vc</td>\n",
       "      <td>VC Meta Guide</td>\n",
       "      <td>NaN</td>\n",
       "      <td>NaN</td>\n",
       "    </tr>\n",
       "    <tr>\n",
       "      <th>1</th>\n",
       "      <td>NaN</td>\n",
       "      <td>NaN</td>\n",
       "      <td>None</td>\n",
       "      <td>Republicans Break From Bipartisan Zika Comprom...</td>\n",
       "      <td>None</td>\n",
       "      <td>en</td>\n",
       "      <td>None</td>\n",
       "      <td>Thu Jun 23 22:14:15 +0000 2016</td>\n",
       "      <td>3.010372e+08</td>\n",
       "      <td>rey_benitez</td>\n",
       "      <td>Rey Benitez</td>\n",
       "      <td>NaN</td>\n",
       "      <td>NaN</td>\n",
       "    </tr>\n",
       "    <tr>\n",
       "      <th>2</th>\n",
       "      <td>NaN</td>\n",
       "      <td>NaN</td>\n",
       "      <td>None</td>\n",
       "      <td>RT @Mojahedineng: #Iran #News European scienti...</td>\n",
       "      <td>None</td>\n",
       "      <td>en</td>\n",
       "      <td>None</td>\n",
       "      <td>Thu Jun 23 22:14:17 +0000 2016</td>\n",
       "      <td>2.501095e+09</td>\n",
       "      <td>FAhmadzadeh</td>\n",
       "      <td>Farzan Ahmadzadeh</td>\n",
       "      <td>NaN</td>\n",
       "      <td>NaN</td>\n",
       "    </tr>\n",
       "    <tr>\n",
       "      <th>3</th>\n",
       "      <td>NaN</td>\n",
       "      <td>NaN</td>\n",
       "      <td>fineout</td>\n",
       "      <td>@fineout @HeraldTribune @FLGovScott WOW!  I di...</td>\n",
       "      <td>None</td>\n",
       "      <td>en</td>\n",
       "      <td>None</td>\n",
       "      <td>Thu Jun 23 22:14:19 +0000 2016</td>\n",
       "      <td>7.442103e+17</td>\n",
       "      <td>joe_cares</td>\n",
       "      <td>Joe Cares</td>\n",
       "      <td>NaN</td>\n",
       "      <td>NaN</td>\n",
       "    </tr>\n",
       "    <tr>\n",
       "      <th>4</th>\n",
       "      <td>NaN</td>\n",
       "      <td>NaN</td>\n",
       "      <td>None</td>\n",
       "      <td>My Nano-Virus, called Dicks, just wiped out th...</td>\n",
       "      <td>None</td>\n",
       "      <td>en</td>\n",
       "      <td>None</td>\n",
       "      <td>Thu Jun 23 22:14:21 +0000 2016</td>\n",
       "      <td>7.092366e+17</td>\n",
       "      <td>RedShadoWolf122</td>\n",
       "      <td>RedShadoWolf</td>\n",
       "      <td>NaN</td>\n",
       "      <td>NaN</td>\n",
       "    </tr>\n",
       "  </tbody>\n",
       "</table>\n",
       "</div>"
      ],
      "text/plain": [
       "   geo_lats  geo_lons reply_to_ScreenName  \\\n",
       "0       NaN       NaN                None   \n",
       "1       NaN       NaN                None   \n",
       "2       NaN       NaN                None   \n",
       "3       NaN       NaN             fineout   \n",
       "4       NaN       NaN                None   \n",
       "\n",
       "                                                text tweet_country tweet_lang  \\\n",
       "0  Factbox: Why the Zika virus is causing alarm -...          None         en   \n",
       "1  Republicans Break From Bipartisan Zika Comprom...          None         en   \n",
       "2  RT @Mojahedineng: #Iran #News European scienti...          None         en   \n",
       "3  @fineout @HeraldTribune @FLGovScott WOW!  I di...          None         en   \n",
       "4  My Nano-Virus, called Dicks, just wiped out th...          None         en   \n",
       "\n",
       "  tweet_location                      tweet_time        userID  \\\n",
       "0           None  Thu Jun 23 22:14:13 +0000 2016  4.263548e+08   \n",
       "1           None  Thu Jun 23 22:14:15 +0000 2016  3.010372e+08   \n",
       "2           None  Thu Jun 23 22:14:17 +0000 2016  2.501095e+09   \n",
       "3           None  Thu Jun 23 22:14:19 +0000 2016  7.442103e+17   \n",
       "4           None  Thu Jun 23 22:14:21 +0000 2016  7.092366e+17   \n",
       "\n",
       "          userName     userScreenName  user_lats  user_lons  \n",
       "0    meta_guide_vc      VC Meta Guide        NaN        NaN  \n",
       "1      rey_benitez        Rey Benitez        NaN        NaN  \n",
       "2      FAhmadzadeh  Farzan Ahmadzadeh        NaN        NaN  \n",
       "3        joe_cares          Joe Cares        NaN        NaN  \n",
       "4  RedShadoWolf122       RedShadoWolf        NaN        NaN  "
      ]
     },
     "execution_count": 29,
     "metadata": {},
     "output_type": "execute_result"
    }
   ],
   "source": [
    "tweets_full_dataframe.head(5)"
   ]
  },
  {
   "cell_type": "code",
   "execution_count": 8,
   "metadata": {
    "collapsed": false
   },
   "outputs": [
    {
     "name": "stdout",
     "output_type": "stream",
     "text": [
      "There are 76037 tweets in this dataframe, but only 51061 unique users.\n",
      "Of the 51061 unique users, there are 42 different languages represented.\n",
      "Of the 51061 unique users, 685 listed a self-reported location.\n"
     ]
    }
   ],
   "source": [
    "# Finding unique values\n",
    "\n",
    "uniqueID       = tweets_full_dataframe.userID.unique()\n",
    "uniqueLocation = tweets_full_dataframe.tweet_location.unique()\n",
    "uniqueLanguage = tweets_full_dataframe.tweet_lang.unique()\n",
    "\n",
    "print(\"There are %d tweets in this dataframe, but only %d unique users.\" %(len(tweets_full_dataframe), len(uniqueID)))\n",
    "print(\"Of the %d unique users, there are %d different languages represented.\" %(len(uniqueID), len(uniqueLanguage)))\n",
    "print(\"Of the %d unique users, %d listed a self-reported location.\" %(len(uniqueID), len(uniqueLocation)))"
   ]
  },
  {
   "cell_type": "code",
   "execution_count": 46,
   "metadata": {
    "collapsed": false
   },
   "outputs": [
    {
     "name": "stdout",
     "output_type": "stream",
     "text": [
      "  reply_to_ScreenName tweet_lang         userName\n",
      "0                None         en    meta_guide_vc\n",
      "1                None         en      rey_benitez\n",
      "2                None         en      FAhmadzadeh\n",
      "3             fineout         en        joe_cares\n",
      "4                None         en  RedShadoWolf122\n",
      "5             Reeq___         lv   AllDwightStuff\n",
      "6                None         en  WendyandCharles\n",
      "7                None         en    kamal_makinde\n",
      "8                None         en  WendyandCharles\n",
      "9                None         es       imcs4you11\n",
      "['en' 'lv' 'es']\n",
      "[None 'fineout' 'Reeq___']\n",
      "['fineout' 'Reeq___']\n",
      "\n",
      "\n",
      "\n"
     ]
    },
    {
     "data": {
      "text/html": [
       "<div>\n",
       "<table border=\"1\" class=\"dataframe\">\n",
       "  <thead>\n",
       "    <tr style=\"text-align: right;\">\n",
       "      <th></th>\n",
       "      <th>reply_to_ScreenName</th>\n",
       "      <th>tweet_lang</th>\n",
       "    </tr>\n",
       "  </thead>\n",
       "  <tbody>\n",
       "    <tr>\n",
       "      <th>3</th>\n",
       "      <td>fineout</td>\n",
       "      <td>en</td>\n",
       "    </tr>\n",
       "    <tr>\n",
       "      <th>5</th>\n",
       "      <td>Reeq___</td>\n",
       "      <td>lv</td>\n",
       "    </tr>\n",
       "  </tbody>\n",
       "</table>\n",
       "</div>"
      ],
      "text/plain": [
       "  reply_to_ScreenName tweet_lang\n",
       "3             fineout         en\n",
       "5             Reeq___         lv"
      ]
     },
     "execution_count": 46,
     "metadata": {},
     "output_type": "execute_result"
    }
   ],
   "source": [
    "# WHAT I WANT TO DO:\n",
    "# Of the tweets with self-reported locations in the user profile, how many also have geo-location from the tweet?\n",
    "\n",
    "# experimenting with commands to make sure I understand what's happening\n",
    "# This website is particularly helpful: http://dataconomy.com/14-best-python-pandas-features/\n",
    "\n",
    "tmpDF = pd.DataFrame({'tweet_lang':tweet_lang[:10],'userName':user_userName[:10],'reply_to_ScreenName':in_reply_to_screen_name[:10]})\n",
    "print(tmpDF)\n",
    "unqLang = tmpDF.tweet_lang.unique()\n",
    "print(unqLang)\n",
    "unqReply = tmpDF.reply_to_ScreenName.unique()\n",
    "print(unqReply)\n",
    "\n",
    "# Select a column, and drop the rows in the column with missing data (value None)\n",
    "replyScreenName = tmpDF.reply_to_ScreenName.dropna()\n",
    "print(replyScreenName.unique())\n",
    "\n",
    "# Select only the columns 'reply_to_ScreenName' and 'tweet_lang' with just the rows that don't have value None\n",
    "print(\"\\n\\n\")\n",
    "tmpDF[['reply_to_ScreenName','tweet_lang']].dropna()"
   ]
  },
  {
   "cell_type": "code",
   "execution_count": 9,
   "metadata": {
    "collapsed": false
   },
   "outputs": [
    {
     "name": "stdout",
     "output_type": "stream",
     "text": [
      "There are 1251 tweets with user defined locations.\n",
      "\n",
      "There are 109 tweets with GPS defined locations.\n",
      "\n",
      "From the 1251 tweets with user defined locations, 107 also have GPS defined locations.\n",
      "\n",
      "From the 107 tweets with both user defined and GPS defined locations, 100 are from tweets with unique user IDs.\n"
     ]
    }
   ],
   "source": [
    "# Testing out the above on the full dataset:\n",
    "\n",
    "tweets_w_UserLocation = tweets_full_dataframe[['userID','tweet_location','user_lats','user_lons']].dropna()\n",
    "print(\"There are %d tweets with user defined locations.\\n\" %(len(tweets_w_UserLocation)))\n",
    "\n",
    "tweets_w_GPSLocation = tweets_full_dataframe[['userID','geo_lats','geo_lons']].dropna()\n",
    "print(\"There are %d tweets with GPS defined locations.\\n\" %(len(tweets_w_GPSLocation)))\n",
    "\n",
    "tweets_w_Location = tweets_full_dataframe[['userID','tweet_location','user_lats','user_lons','geo_lats','geo_lons']].dropna()\n",
    "print(\"From the %d tweets with user defined locations, %d also have GPS defined locations.\\n\" \n",
    "      %(len(tweets_w_UserLocation), len(tweets_w_Location)))\n",
    "\n",
    "uniqueUsers_w_Location = tweets_w_Location.userID.unique()\n",
    "print(\"From the %d tweets with both user defined and GPS defined locations, %d are from tweets with unique user IDs.\" \n",
    "      %(len(tweets_w_Location), len(uniqueUsers_w_Location)))"
   ]
  },
  {
   "cell_type": "markdown",
   "metadata": {},
   "source": [
    "## Now want to take the tweets with both user defined and GPS defined locations and find how far apart they are\n",
    "\n",
    "### Two ways to compute distance:\n",
    "  \n",
    "#### Great Circle \n",
    "- On a spherical earth, a great circle is the shortest distance between two locations  \n",
    "  \n",
    "#### Vincenty's formulae \n",
    "- Calculates the distance between two points on the surface of a spheroid based on the assumption that the figure of the Earth is an oblate spheroid, and hence are more accurate than methods that assume a spherical Earth, such as great-circle distance.\n"
   ]
  },
  {
   "cell_type": "code",
   "execution_count": 28,
   "metadata": {
    "collapsed": false
   },
   "outputs": [
    {
     "data": {
      "text/html": [
       "<div>\n",
       "<table border=\"1\" class=\"dataframe\">\n",
       "  <thead>\n",
       "    <tr style=\"text-align: right;\">\n",
       "      <th></th>\n",
       "      <th>userID</th>\n",
       "      <th>tweet_location</th>\n",
       "      <th>user_lats</th>\n",
       "      <th>user_lons</th>\n",
       "      <th>geo_lats</th>\n",
       "      <th>geo_lons</th>\n",
       "    </tr>\n",
       "  </thead>\n",
       "  <tbody>\n",
       "    <tr>\n",
       "      <th>398</th>\n",
       "      <td>1.247165e+09</td>\n",
       "      <td>Tongeren, België</td>\n",
       "      <td>50.781015</td>\n",
       "      <td>5.464813</td>\n",
       "      <td>50.774775</td>\n",
       "      <td>5.470622</td>\n",
       "    </tr>\n",
       "    <tr>\n",
       "      <th>882</th>\n",
       "      <td>6.205071e+07</td>\n",
       "      <td>Downtown Jacksonville, FL</td>\n",
       "      <td>30.326311</td>\n",
       "      <td>-81.656517</td>\n",
       "      <td>30.326331</td>\n",
       "      <td>-81.653395</td>\n",
       "    </tr>\n",
       "    <tr>\n",
       "      <th>1934</th>\n",
       "      <td>4.074310e+08</td>\n",
       "      <td>Santos, Brasil</td>\n",
       "      <td>-23.960833</td>\n",
       "      <td>-46.333889</td>\n",
       "      <td>-23.963427</td>\n",
       "      <td>-46.307066</td>\n",
       "    </tr>\n",
       "    <tr>\n",
       "      <th>2331</th>\n",
       "      <td>1.069200e+08</td>\n",
       "      <td>Goiânia, Brasil</td>\n",
       "      <td>-16.680882</td>\n",
       "      <td>-49.253269</td>\n",
       "      <td>-16.692271</td>\n",
       "      <td>-49.317574</td>\n",
       "    </tr>\n",
       "    <tr>\n",
       "      <th>3890</th>\n",
       "      <td>2.241408e+09</td>\n",
       "      <td>Little Elm, TX</td>\n",
       "      <td>33.162619</td>\n",
       "      <td>-96.937505</td>\n",
       "      <td>33.168701</td>\n",
       "      <td>-96.961601</td>\n",
       "    </tr>\n",
       "  </tbody>\n",
       "</table>\n",
       "</div>"
      ],
      "text/plain": [
       "            userID             tweet_location  user_lats  user_lons  \\\n",
       "398   1.247165e+09           Tongeren, België  50.781015   5.464813   \n",
       "882   6.205071e+07  Downtown Jacksonville, FL  30.326311 -81.656517   \n",
       "1934  4.074310e+08             Santos, Brasil -23.960833 -46.333889   \n",
       "2331  1.069200e+08            Goiânia, Brasil -16.680882 -49.253269   \n",
       "3890  2.241408e+09             Little Elm, TX  33.162619 -96.937505   \n",
       "\n",
       "       geo_lats   geo_lons  \n",
       "398   50.774775   5.470622  \n",
       "882   30.326331 -81.653395  \n",
       "1934 -23.963427 -46.307066  \n",
       "2331 -16.692271 -49.317574  \n",
       "3890  33.168701 -96.961601  "
      ]
     },
     "execution_count": 28,
     "metadata": {},
     "output_type": "execute_result"
    }
   ],
   "source": [
    "tweets_w_Location.head(5)"
   ]
  },
  {
   "cell_type": "code",
   "execution_count": 94,
   "metadata": {
    "collapsed": false
   },
   "outputs": [
    {
     "name": "stdout",
     "output_type": "stream",
     "text": [
      "Full Address:\n",
      "Wirixstraat, Tongeren, Limburg, Vlaanderen, 3700, België - Belgique - Belgien\n",
      "\n",
      "Location Raw Dict:\n",
      "\n",
      "{'osm_id': '39586883', 'licence': 'Data © OpenStreetMap contributors, ODbL 1.0. http://www.openstreetmap.org/copyright', 'boundingbox': ['50.7742579', '50.7747757', '5.4705524', '5.4715545'], 'place_id': '67771065', 'osm_type': 'way', 'lon': '5.4708653', 'address': {'town': 'Tongeren', 'county': 'Tongeren', 'road': 'Wirixstraat', 'country_code': 'be', 'postcode': '3700', 'state': 'Vlaanderen', 'country': 'België - Belgique - Belgien'}, 'lat': '50.7744792', 'display_name': 'Wirixstraat, Tongeren, Limburg, Vlaanderen, 3700, België - Belgique - Belgien'}\n",
      "['50.7742579', '50.7747757', '5.4705524', '5.4715545']\n"
     ]
    }
   ],
   "source": [
    "\n",
    "geolocator = Nominatim()\n",
    "\n",
    "latList = list(tweets_w_Location['geo_lats'])\n",
    "lonList = list(tweets_w_Location['geo_lons'])\n",
    "usrLats = list(tweets_w_Location['user_lats'])\n",
    "usrLons = list(tweets_w_Location['user_lons'])\n",
    "locList = list(tweets_w_Location['tweet_location'])\n",
    "\n",
    "tmpLat1 = latList[0]\n",
    "tmpLon1 = lonList[0]\n",
    "\n",
    "location = geolocator.reverse(\"%s,%s\" %(tmpLat1,tmpLon1))\n",
    "print(\"Full Address:\")\n",
    "print(location.address)\n",
    "print(\"\\nLocation Raw Dict:\\n\")\n",
    "print(location.raw)\n",
    "print(location.raw['boundingbox'])\n",
    "#print(location.raw['address']['country'])\n"
   ]
  },
  {
   "cell_type": "code",
   "execution_count": 109,
   "metadata": {
    "collapsed": false
   },
   "outputs": [
    {
     "name": "stdout",
     "output_type": "stream",
     "text": [
      "0.05665884512324701\n"
     ]
    }
   ],
   "source": [
    "# What is the distance from opposite corners of the bounding box?\n",
    "from geopy.distance import vincenty\n",
    "\n",
    "bounding_box_diag = vincenty((50.7747757, 5.4705524),(50.7742579,5.4715545)).miles\n",
    "print(bounding_box_diag)"
   ]
  },
  {
   "cell_type": "code",
   "execution_count": 130,
   "metadata": {
    "collapsed": false
   },
   "outputs": [
    {
     "name": "stdout",
     "output_type": "stream",
     "text": [
      "The minimum distance between the user-defined location and the GPS-defined location is 0.02 miles\n",
      "The maximum distance between the user-defined location and the GPS-defined location is 10113.31 miles\n",
      "\n",
      "Of the 107 users with both user-defined and GPS-defined locations, 31 are the same location.\n",
      "\n",
      "50 users are between 1 and 10 miles from their user-defined location.\n",
      "\n",
      "13 users are between 10 and 100 miles from their user-defined location.\n",
      "\n",
      "9 users are between 100 and 1000 miles from their user-defined location.\n",
      "\n",
      "4 users are more than 1000 miles from their user-defined location.\n"
     ]
    }
   ],
   "source": [
    "from geopy.distance import vincenty\n",
    "\n",
    "distance_btw_points = []\n",
    "\n",
    "for idx in range(0,len(latList)):\n",
    "    tmpDist = vincenty((latList[idx],lonList[idx]),(usrLats[idx],usrLons[idx])).miles\n",
    "    distance_btw_points.append(tmpDist)\n",
    "\n",
    "print(\"The minimum distance between the user-defined location and the GPS-defined location is %.2f miles\" \n",
    "      %(min(distance_btw_points)))\n",
    "print(\"The maximum distance between the user-defined location and the GPS-defined location is %.2f miles\"\n",
    "      %(max(distance_btw_points)))\n",
    "\n",
    "# Users whos user-defined location and GPS-defined location are within 1 mile of eachother:\n",
    "distance_btw_points_1 = [i for i in distance_btw_points if i <= 1.0]\n",
    "print(\"\\nOf the %d users with both user-defined and GPS-defined locations, %d are the same location.\"\n",
    "     %(len(tweets_w_Location), len(distance_btw_points_1)))\n",
    "\n",
    "# Remove all values less than 1 mile:\n",
    "distance_btw_points_10 = [i for i in distance_btw_points if i > 1.0 and i < 10]\n",
    "print(\"\\n%d users are between 1 and 10 miles from their user-defined location.\" %(len(distance_btw_points_10)))\n",
    "\n",
    "distance_btw_points_100 = [i for i in distance_btw_points if i >= 10 and i < 100]\n",
    "print(\"\\n%d users are between 10 and 100 miles from their user-defined location.\" %(len(distance_btw_points_100)))\n",
    "\n",
    "distance_btw_points_1000 = [i for i in distance_btw_points if i >= 100 and i < 1000]\n",
    "print(\"\\n%d users are between 100 and 1000 miles from their user-defined location.\" %(len(distance_btw_points_1000)))\n",
    "\n",
    "distance_btw_points_big = [i for i in distance_btw_points if i >= 1000]\n",
    "print(\"\\n%d users are more than 1000 miles from their user-defined location.\" %(len(distance_btw_points_big)))"
   ]
  },
  {
   "cell_type": "code",
   "execution_count": 137,
   "metadata": {
    "collapsed": false
   },
   "outputs": [
    {
     "data": {
      "image/png": "[encoded data removed]",
      "text/plain": [
       "<matplotlib.figure.Figure at 0x1376b6358>"
      ]
     },
     "metadata": {},
     "output_type": "display_data"
    }
   ],
   "source": [
    "# Histogram of distance between points:\n",
    "plt.figure(figsize=(20,20))\n",
    "plt.rc('xtick', labelsize=25)\n",
    "plt.rc('ytick', labelsize=25)\n",
    "\n",
    "plt.subplot(221)\n",
    "plt.hist(distance_btw_points_10, bins=20)\n",
    "plt.xlim([1,10])\n",
    "plt.title(\"1 to 10 miles\", fontsize=25, fontweight='bold')\n",
    "\n",
    "\n",
    "plt.subplot(222)\n",
    "plt.hist(distance_btw_points_100)\n",
    "plt.xlim([10,100])\n",
    "plt.title(\"10 to 100 miles\", fontsize=25, fontweight='bold')\n",
    "\n",
    "plt.subplot(223)\n",
    "plt.hist(distance_btw_points_1000)\n",
    "plt.xlim([100,1000])\n",
    "plt.title(\"100 to 1000 miles\", fontsize=25, fontweight='bold')\n",
    "\n",
    "plt.subplot(224)\n",
    "plt.hist(distance_btw_points_big)\n",
    "plt.xlim([1000,11000])\n",
    "plt.title(\"Greater than 1000 miles\", fontsize=25, fontweight='bold')\n",
    "\n",
    "plt.show()"
   ]
  },
  {
   "cell_type": "code",
   "execution_count": 57,
   "metadata": {
    "collapsed": false
   },
   "outputs": [
    {
     "name": "stdout",
     "output_type": "stream",
     "text": [
      "<class 'pandas.core.series.Series'>\n",
      "en    46381\n",
      "es    12535\n",
      "pt    10978\n",
      "in     1128\n",
      "fr      776\n",
      "it      457\n",
      "ht      287\n",
      "de      191\n",
      "lv      165\n",
      "eu      161\n",
      "ja      158\n",
      "lt      157\n",
      "cs      136\n",
      "ro       87\n",
      "tl       76\n",
      "ar       65\n",
      "ru       62\n",
      "tr       62\n",
      "nl       49\n",
      "sl       46\n",
      "Name: tweet_lang, dtype: int64\n",
      "Index(['en', 'es', 'pt', 'in', 'fr', 'it', 'ht', 'de', 'lv', 'eu', 'ja', 'lt',\n",
      "       'cs', 'ro', 'tl', 'ar', 'ru', 'tr', 'nl', 'sl'],\n",
      "      dtype='object')\n"
     ]
    }
   ],
   "source": [
    "tweets_by_lang = tweets_full_dataframe['tweet_lang'].value_counts()\n",
    "print(type(tweets_by_lang))\n",
    "tmpLanguages = tweets_by_lang[:20]\n",
    "print(tmpLanguages)\n",
    "names = tmpLanguages.keys()\n",
    "print(names)\n"
   ]
  },
  {
   "cell_type": "code",
   "execution_count": 29,
   "metadata": {
    "collapsed": false
   },
   "outputs": [],
   "source": [
    "# List of language codes:\n",
    "# https://en.wikipedia.org/wiki/List_of_ISO_639-2_codes"
   ]
  },
  {
   "cell_type": "code",
   "execution_count": 52,
   "metadata": {
    "collapsed": false
   },
   "outputs": [
    {
     "name": "stdout",
     "output_type": "stream",
     "text": [
      "[1, 2, 3, 4, 5, 6, 7, 8, 9, 10]\n"
     ]
    }
   ],
   "source": [
    "ind = list(range(1,21))\n"
   ]
  },
  {
   "cell_type": "code",
   "execution_count": 64,
   "metadata": {
    "collapsed": false
   },
   "outputs": [
    {
     "data": {
      "image/png": "[encoded data removed]",
      "text/plain": [
       "<matplotlib.figure.Figure at 0x1236c93c8>"
      ]
     },
     "metadata": {},
     "output_type": "display_data"
    }
   ],
   "source": [
    "# Plotting languages\n",
    "numLang = 10\n",
    "tweets_by_lang = tweets_full_dataframe['tweet_lang'].value_counts()\n",
    "tmpLanguages = tweets_by_lang[:numLang]\n",
    "width = [0.55]\n",
    "ind = list(range(1,numLang+1))\n",
    "names = tmpLanguages.keys()\n",
    "\n",
    "fig, ax = plt.subplots()\n",
    "rects1 = ax.bar(ind, tmpLanguages, width, color='red')\n",
    "plt.yscale('log')\n",
    "\n",
    "ax.set_title('Top 10 languages', fontsize=15, fontweight='bold')\n",
    "ax.set_ylabel('Number of tweets' , fontsize=15)\n",
    "ax.set_xlabel('Languages', fontsize=15)\n",
    "\n",
    "# Hide the right and top spines\n",
    "ax.spines['top'].set_visible(False)\n",
    "ax.spines['right'].set_visible(False)\n",
    "\n",
    "# Only show ticks on the left and bottom spines\n",
    "ax.yaxis.set_ticks_position('left')\n",
    "ax.xaxis.set_ticks_position('bottom')\n",
    "\n",
    "ax.set_xticks(ind + width)\n",
    "ax.set_xticklabels(names)\n",
    "\n",
    "\n",
    "def autolabel(rects):\n",
    "    # attach some text labels\n",
    "    for rect in rects1:\n",
    "        height = rect.get_height()\n",
    "        ax.text(rect.get_x() + rect.get_width()/2., 1.05*height,\n",
    "                '%d' % int(height),\n",
    "                ha='center', va='bottom')\n",
    "\n",
    "autolabel(rects1)\n",
    "plt.show()"
   ]
  },
  {
   "cell_type": "code",
   "execution_count": 17,
   "metadata": {
    "collapsed": false
   },
   "outputs": [
    {
     "data": {
      "text/plain": [
       "<matplotlib.axes._subplots.AxesSubplot at 0x12a320c18>"
      ]
     },
     "execution_count": 17,
     "metadata": {},
     "output_type": "execute_result"
    },
    {
     "data": {
      "image/png": "[encoded data removed]",
      "text/plain": [
       "<matplotlib.figure.Figure at 0x12a32f358>"
      ]
     },
     "metadata": {},
     "output_type": "display_data"
    }
   ],
   "source": [
    "# Plotting the top 5 languages\n",
    "\n",
    "tweets_by_lang = tweets_full_dataframe['tweet_lang'].value_counts()\n",
    "\n",
    "fig, ax = plt.subplots()\n",
    "ax.tick_params(axis='x', labelsize=15)\n",
    "ax.tick_params(axis='y', labelsize=10)\n",
    "ax.set_xlabel('Languages', fontsize=15)\n",
    "ax.set_ylabel('Number of tweets' , fontsize=15)\n",
    "ax.set_title('Top 5 languages', fontsize=15, fontweight='bold')\n",
    "tweets_by_lang[:5].plot(ax=ax, kind='bar', color='red')\n"
   ]
  },
  {
   "cell_type": "code",
   "execution_count": 18,
   "metadata": {
    "collapsed": false
   },
   "outputs": [
    {
     "data": {
      "text/plain": [
       "<matplotlib.axes._subplots.AxesSubplot at 0x12a320be0>"
      ]
     },
     "execution_count": 18,
     "metadata": {},
     "output_type": "execute_result"
    },
    {
     "data": {
      "image/png": "[encoded data removed]",
      "text/plain": [
       "<matplotlib.figure.Figure at 0x12a3346d8>"
      ]
     },
     "metadata": {},
     "output_type": "display_data"
    }
   ],
   "source": [
    "# Plotting the languages most common, after the 3 top\n",
    "\n",
    "fig, ax = plt.subplots()\n",
    "ax.tick_params(axis='x', labelsize=15)\n",
    "ax.tick_params(axis='y', labelsize=10)\n",
    "ax.set_xlabel('Languages', fontsize=15)\n",
    "ax.set_ylabel('Number of tweets' , fontsize=15)\n",
    "ax.set_title('4-10 most common languages', fontsize=15, fontweight='bold')\n",
    "tweets_by_lang[3:10].plot(ax=ax, kind='bar', color='red')\n"
   ]
  },
  {
   "cell_type": "code",
   "execution_count": 19,
   "metadata": {
    "collapsed": false
   },
   "outputs": [
    {
     "data": {
      "image/png": "[encoded data removed]",
      "text/plain": [
       "<matplotlib.figure.Figure at 0x12a3f52e8>"
      ]
     },
     "metadata": {},
     "output_type": "display_data"
    }
   ],
   "source": [
    "# Map out the tweet location by direct Lat Lon\n",
    "\n",
    "# Use the Gall–Peters projection\n",
    "map = Basemap(projection='gall', \n",
    "              resolution = 'l', \n",
    "              area_thresh = 100000.0,\n",
    "              # Centered at 0,0 (i.e null island)\n",
    "              lat_0=0, lon_0=0)\n",
    "\n",
    "# Draw the coastlines on the map\n",
    "map.drawcoastlines()\n",
    "\n",
    "# Draw country borders on the map\n",
    "map.drawcountries()\n",
    "\n",
    "# Fill the land with grey\n",
    "map.fillcontinents(color = '#888888')\n",
    "\n",
    "# Draw the map boundaries\n",
    "map.drawmapboundary(fill_color='#f4f4f4')\n",
    "\n",
    "# Define longitude and latitude points\n",
    "x,y = map(tweets_full_dataframe['geo_lons'].values, tweets_full_dataframe['geo_lats'].values)\n",
    "\n",
    "# Plot using round, red markers, size 6\n",
    "map.plot(x, y, 'ro', markersize=6)\n",
    "\n",
    "plt.title('Tweet locations - LatLon encoded directly')\n",
    "\n",
    "# Show the map\n",
    "plt.show()"
   ]
  },
  {
   "cell_type": "code",
   "execution_count": 20,
   "metadata": {
    "collapsed": false
   },
   "outputs": [
    {
     "data": {
      "image/png": "[encoded data removed]",
      "text/plain": [
       "<matplotlib.figure.Figure at 0x12b568cc0>"
      ]
     },
     "metadata": {},
     "output_type": "display_data"
    }
   ],
   "source": [
    "# Map out the tweet location by direct Lat Lon\n",
    "\n",
    "# Use the Gall–Peters projection\n",
    "map = Basemap(projection='gall', \n",
    "              resolution = 'l', \n",
    "              area_thresh = 100000.0,\n",
    "              # Centered at 0,0 (i.e null island)\n",
    "              lat_0=0, lon_0=0)\n",
    "\n",
    "# Draw the coastlines on the map\n",
    "map.drawcoastlines()\n",
    "\n",
    "# Draw country borders on the map\n",
    "map.drawcountries()\n",
    "\n",
    "# Fill the land with grey\n",
    "map.fillcontinents(color = '#888888')\n",
    "\n",
    "# Draw the map boundaries\n",
    "map.drawmapboundary(fill_color='#f4f4f4')\n",
    "\n",
    "# Define longitude and latitude points\n",
    "x,y = map(tweets_full_dataframe['user_lons'].values, tweets_full_dataframe['user_lats'].values)\n",
    "\n",
    "# Plot using round, red markers, size 6\n",
    "map.plot(x, y, 'ro', markersize=6)\n",
    "\n",
    "plt.title('Tweet locations - LatLon from user profile location')\n",
    "\n",
    "# Show the map\n",
    "plt.show()"
   ]
  }
 ],
 "metadata": {
  "kernelspec": {
   "display_name": "IPython (Python 3)",
   "language": "python",
   "name": "python3"
  },
  "language_info": {
   "codemirror_mode": {
    "name": "ipython",
    "version": 3
   },
   "file_extension": ".py",
   "mimetype": "text/x-python",
   "name": "python",
   "nbconvert_exporter": "python",
   "pygments_lexer": "ipython3",
   "version": "3.5.1"
  }
 },
 "nbformat": 4,
 "nbformat_minor": 0
}
